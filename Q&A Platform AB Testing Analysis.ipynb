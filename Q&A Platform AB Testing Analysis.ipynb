{
 "cells": [
  {
   "cell_type": "markdown",
   "metadata": {},
   "source": [
    "# Q&A Platform AB Testing Analysis\n",
    "\n",
    "\n",
    "### Author: Giang (GiGi) Nguyen\n",
    "\n",
    "### Intro\n",
    "\n",
    "The data challenge simulates a typical experiment analysis you would be expected to work on at an question-and-answer patform. In this challenge, we will provide several datasets and ask you to analyze the results and provide product recommendations for a particular experiment. \n",
    "\n",
    "\n",
    "### Case Study\n",
    "The platform has just introduced a new UI design to the app. The goal of the new design is to increase user engagement (measured by minutes spent on site). The team ran an A/B test to evaluate the change. Using the data, help the team understand the impact of the UI change better.\n",
    "\n",
    "Tables provided are as follows:\n",
    "    1. t1_user_active_min.csv\n",
    "    2. t2_user_variant.csv\n",
    "    3. t3_user_active_min_pre.csv\n",
    "    4. t4_user_attributes.csv\n",
    "\n",
    "For the privacy of the data, I will only make the dataset visible in this Jupyter Notebook without posting the actual data on github."
   ]
  },
  {
   "cell_type": "markdown",
   "metadata": {},
   "source": [
    "### Import necessary packages"
   ]
  },
  {
   "cell_type": "code",
   "execution_count": 1,
   "metadata": {},
   "outputs": [],
   "source": [
    "import pandas as pd\n",
    "import numpy as np\n",
    "import matplotlib.pyplot as plt\n",
    "import matplotlib.dates as mdates\n",
    "import seaborn as sns\n",
    "from pandas import DataFrame, Series\n",
    "import statsmodels.stats.api as sms\n",
    "import datetime as dt\n",
    "from scipy import stats\n",
    "import random\n",
    "import math\n",
    "import time\n",
    "import pytz\n",
    "\n",
    "from matplotlib.colors import ListedColormap\n",
    "sns.set(style=\"white\")\n",
    "sns.set(style=\"whitegrid\", color_codes=True)\n",
    "sns.set_palette(\"husl\")\n"
   ]
  },
  {
   "cell_type": "markdown",
   "metadata": {},
   "source": [
    "### Overview"
   ]
  },
  {
   "cell_type": "markdown",
   "metadata": {},
   "source": [
    "Table Schema\n",
    "\n",
    "t1_user_active_min.csv\n",
    "This table contains active minutes data logged after experiment started.\n",
    "Each row represents the total number of minutes spent on site for each user on a date.\n",
    "If a user never visited the site for a given date, there wouldn't be data for that uid on that date.\n",
    "- uid: user ID\n",
    "- dt: date when corresponding active minutes are registered\n",
    "- active_mins: number of minutes spent on site for the date\n",
    "\n",
    "t2_user_variant.csv\n",
    "This table contains users’ treatment assignment.\n",
    "Each row represents the assignment information for a unique user.\n",
    "- uid: user ID\n",
    "- variant_number: the experiment variant user is in. 0 for control, 1 for treatment\n",
    "- dt: date when user entered the experiment, should be ‘2019-02-06’ for all users\n",
    "- signup_date: the date string that user signed up on\n",
    "  \n",
    "t3_user_active_min_pre.csv\n",
    "This table contains active minutes data before the experiment started.\n",
    "It has a similar format as t1, except the dt range can extend before the experiment start date.\n",
    "- uid: user ID\n",
    "- dt: date when corresponding active minutes are registered\n",
    "- active_mins: number of minutes spent on site for the date\n",
    "\n",
    "t4_user_attributes.csv\n",
    "This table contains data about some user attributes.\n",
    "Each row represents attributes of a unique user.\n",
    "- uid: user ID\n",
    "- user_type: segment that a user belongs to, measured by activity level of the user. Can be ‘new_user’, ‘non_reader’, ‘reader’ or ‘contributor’\n",
    "- gender: user gender. Can be ‘male’, ‘female’ or ‘unknown’"
   ]
  },
  {
   "cell_type": "markdown",
   "metadata": {},
   "source": [
    "### Load Data"
   ]
  },
  {
   "cell_type": "code",
   "execution_count": 2,
   "metadata": {},
   "outputs": [],
   "source": [
    "t1 = pd.read_csv('t1_user_active_min.csv')\n",
    "t2 = pd.read_csv('t2_user_variant.csv')\n",
    "t3 = pd.read_csv('t3_user_active_min_pre.csv')\n",
    "t4 = pd.read_csv('t4_user_attributes.csv')"
   ]
  },
  {
   "cell_type": "markdown",
   "metadata": {},
   "source": [
    "### EDA"
   ]
  },
  {
   "cell_type": "code",
   "execution_count": 3,
   "metadata": {},
   "outputs": [
    {
     "data": {
      "text/html": [
       "<div>\n",
       "<style scoped>\n",
       "    .dataframe tbody tr th:only-of-type {\n",
       "        vertical-align: middle;\n",
       "    }\n",
       "\n",
       "    .dataframe tbody tr th {\n",
       "        vertical-align: top;\n",
       "    }\n",
       "\n",
       "    .dataframe thead th {\n",
       "        text-align: right;\n",
       "    }\n",
       "</style>\n",
       "<table border=\"1\" class=\"dataframe\">\n",
       "  <thead>\n",
       "    <tr style=\"text-align: right;\">\n",
       "      <th></th>\n",
       "      <th>uid</th>\n",
       "      <th>dt</th>\n",
       "      <th>active_mins</th>\n",
       "    </tr>\n",
       "  </thead>\n",
       "  <tbody>\n",
       "    <tr>\n",
       "      <td>459952</td>\n",
       "      <td>20697</td>\n",
       "      <td>2019-02-06</td>\n",
       "      <td>1.0</td>\n",
       "    </tr>\n",
       "    <tr>\n",
       "      <td>788773</td>\n",
       "      <td>35713</td>\n",
       "      <td>2019-02-06</td>\n",
       "      <td>66.0</td>\n",
       "    </tr>\n",
       "    <tr>\n",
       "      <td>898421</td>\n",
       "      <td>40656</td>\n",
       "      <td>2019-02-06</td>\n",
       "      <td>40.0</td>\n",
       "    </tr>\n",
       "    <tr>\n",
       "      <td>991006</td>\n",
       "      <td>45833</td>\n",
       "      <td>2019-02-06</td>\n",
       "      <td>3.0</td>\n",
       "    </tr>\n",
       "    <tr>\n",
       "      <td>154521</td>\n",
       "      <td>6914</td>\n",
       "      <td>2019-02-06</td>\n",
       "      <td>2.0</td>\n",
       "    </tr>\n",
       "  </tbody>\n",
       "</table>\n",
       "</div>"
      ],
      "text/plain": [
       "          uid          dt  active_mins\n",
       "459952  20697  2019-02-06          1.0\n",
       "788773  35713  2019-02-06         66.0\n",
       "898421  40656  2019-02-06         40.0\n",
       "991006  45833  2019-02-06          3.0\n",
       "154521   6914  2019-02-06          2.0"
      ]
     },
     "execution_count": 3,
     "metadata": {},
     "output_type": "execute_result"
    }
   ],
   "source": [
    "t1.sort_values(by='dt').head()"
   ]
  },
  {
   "cell_type": "code",
   "execution_count": 4,
   "metadata": {},
   "outputs": [
    {
     "data": {
      "text/html": [
       "<div>\n",
       "<style scoped>\n",
       "    .dataframe tbody tr th:only-of-type {\n",
       "        vertical-align: middle;\n",
       "    }\n",
       "\n",
       "    .dataframe tbody tr th {\n",
       "        vertical-align: top;\n",
       "    }\n",
       "\n",
       "    .dataframe thead th {\n",
       "        text-align: right;\n",
       "    }\n",
       "</style>\n",
       "<table border=\"1\" class=\"dataframe\">\n",
       "  <thead>\n",
       "    <tr style=\"text-align: right;\">\n",
       "      <th></th>\n",
       "      <th>uid</th>\n",
       "      <th>dt</th>\n",
       "      <th>active_mins</th>\n",
       "    </tr>\n",
       "  </thead>\n",
       "  <tbody>\n",
       "    <tr>\n",
       "      <td>815851</td>\n",
       "      <td>36855</td>\n",
       "      <td>2019-07-05</td>\n",
       "      <td>2.0</td>\n",
       "    </tr>\n",
       "    <tr>\n",
       "      <td>73229</td>\n",
       "      <td>3297</td>\n",
       "      <td>2019-07-05</td>\n",
       "      <td>28.0</td>\n",
       "    </tr>\n",
       "    <tr>\n",
       "      <td>646306</td>\n",
       "      <td>29231</td>\n",
       "      <td>2019-07-05</td>\n",
       "      <td>1.0</td>\n",
       "    </tr>\n",
       "    <tr>\n",
       "      <td>218559</td>\n",
       "      <td>9817</td>\n",
       "      <td>2019-07-05</td>\n",
       "      <td>2.0</td>\n",
       "    </tr>\n",
       "    <tr>\n",
       "      <td>1024476</td>\n",
       "      <td>47734</td>\n",
       "      <td>2019-07-05</td>\n",
       "      <td>2.0</td>\n",
       "    </tr>\n",
       "  </tbody>\n",
       "</table>\n",
       "</div>"
      ],
      "text/plain": [
       "           uid          dt  active_mins\n",
       "815851   36855  2019-07-05          2.0\n",
       "73229     3297  2019-07-05         28.0\n",
       "646306   29231  2019-07-05          1.0\n",
       "218559    9817  2019-07-05          2.0\n",
       "1024476  47734  2019-07-05          2.0"
      ]
     },
     "execution_count": 4,
     "metadata": {},
     "output_type": "execute_result"
    }
   ],
   "source": [
    "t1.sort_values(by='dt').tail()"
   ]
  },
  {
   "cell_type": "code",
   "execution_count": 5,
   "metadata": {},
   "outputs": [
    {
     "name": "stdout",
     "output_type": "stream",
     "text": [
      "<class 'pandas.core.frame.DataFrame'>\n",
      "RangeIndex: 1066402 entries, 0 to 1066401\n",
      "Data columns (total 3 columns):\n",
      "uid            1066402 non-null int64\n",
      "dt             1066402 non-null object\n",
      "active_mins    1066402 non-null float64\n",
      "dtypes: float64(1), int64(1), object(1)\n",
      "memory usage: 24.4+ MB\n"
     ]
    }
   ],
   "source": [
    "t1.info()"
   ]
  },
  {
   "cell_type": "code",
   "execution_count": 6,
   "metadata": {},
   "outputs": [
    {
     "name": "stdout",
     "output_type": "stream",
     "text": [
      "<class 'pandas.core.frame.DataFrame'>\n",
      "RangeIndex: 50000 entries, 0 to 49999\n",
      "Data columns (total 4 columns):\n",
      "uid               50000 non-null int64\n",
      "variant_number    50000 non-null int64\n",
      "dt                50000 non-null object\n",
      "signup_date       50000 non-null object\n",
      "dtypes: int64(2), object(2)\n",
      "memory usage: 1.5+ MB\n"
     ]
    }
   ],
   "source": [
    "t2.info()"
   ]
  },
  {
   "cell_type": "code",
   "execution_count": 7,
   "metadata": {},
   "outputs": [
    {
     "data": {
      "text/html": [
       "<div>\n",
       "<style scoped>\n",
       "    .dataframe tbody tr th:only-of-type {\n",
       "        vertical-align: middle;\n",
       "    }\n",
       "\n",
       "    .dataframe tbody tr th {\n",
       "        vertical-align: top;\n",
       "    }\n",
       "\n",
       "    .dataframe thead th {\n",
       "        text-align: right;\n",
       "    }\n",
       "</style>\n",
       "<table border=\"1\" class=\"dataframe\">\n",
       "  <thead>\n",
       "    <tr style=\"text-align: right;\">\n",
       "      <th></th>\n",
       "      <th>uid</th>\n",
       "      <th>dt</th>\n",
       "      <th>signup_date</th>\n",
       "    </tr>\n",
       "    <tr>\n",
       "      <th>variant_number</th>\n",
       "      <th></th>\n",
       "      <th></th>\n",
       "      <th></th>\n",
       "    </tr>\n",
       "  </thead>\n",
       "  <tbody>\n",
       "    <tr>\n",
       "      <td>0</td>\n",
       "      <td>40000</td>\n",
       "      <td>40000</td>\n",
       "      <td>40000</td>\n",
       "    </tr>\n",
       "    <tr>\n",
       "      <td>1</td>\n",
       "      <td>10000</td>\n",
       "      <td>10000</td>\n",
       "      <td>10000</td>\n",
       "    </tr>\n",
       "  </tbody>\n",
       "</table>\n",
       "</div>"
      ],
      "text/plain": [
       "                  uid     dt  signup_date\n",
       "variant_number                           \n",
       "0               40000  40000        40000\n",
       "1               10000  10000        10000"
      ]
     },
     "execution_count": 7,
     "metadata": {},
     "output_type": "execute_result"
    }
   ],
   "source": [
    "t2.groupby('variant_number').count()"
   ]
  },
  {
   "cell_type": "code",
   "execution_count": 8,
   "metadata": {},
   "outputs": [
    {
     "data": {
      "text/plain": [
       "uid    46633\n",
       "dtype: int64"
      ]
     },
     "execution_count": 8,
     "metadata": {},
     "output_type": "execute_result"
    }
   ],
   "source": [
    "t1[['uid']].nunique()"
   ]
  },
  {
   "cell_type": "code",
   "execution_count": 9,
   "metadata": {},
   "outputs": [],
   "source": [
    "t1_t2_join = pd.merge(t1, t2[['uid','variant_number']], how='right', left_on='uid', right_on='uid').dropna()"
   ]
  },
  {
   "cell_type": "code",
   "execution_count": 10,
   "metadata": {},
   "outputs": [
    {
     "data": {
      "text/plain": [
       "uid    46633\n",
       "dtype: int64"
      ]
     },
     "execution_count": 10,
     "metadata": {},
     "output_type": "execute_result"
    }
   ],
   "source": [
    "t1_t2_join[['uid']].nunique()"
   ]
  },
  {
   "cell_type": "code",
   "execution_count": 11,
   "metadata": {},
   "outputs": [
    {
     "data": {
      "text/html": [
       "<div>\n",
       "<style scoped>\n",
       "    .dataframe tbody tr th:only-of-type {\n",
       "        vertical-align: middle;\n",
       "    }\n",
       "\n",
       "    .dataframe tbody tr th {\n",
       "        vertical-align: top;\n",
       "    }\n",
       "\n",
       "    .dataframe thead th {\n",
       "        text-align: right;\n",
       "    }\n",
       "</style>\n",
       "<table border=\"1\" class=\"dataframe\">\n",
       "  <thead>\n",
       "    <tr style=\"text-align: right;\">\n",
       "      <th></th>\n",
       "      <th>uid</th>\n",
       "      <th>dt</th>\n",
       "      <th>active_mins</th>\n",
       "      <th>variant_number</th>\n",
       "    </tr>\n",
       "    <tr>\n",
       "      <th>variant_number</th>\n",
       "      <th></th>\n",
       "      <th></th>\n",
       "      <th></th>\n",
       "      <th></th>\n",
       "    </tr>\n",
       "  </thead>\n",
       "  <tbody>\n",
       "    <tr>\n",
       "      <td>0</td>\n",
       "      <td>37425</td>\n",
       "      <td>150</td>\n",
       "      <td>818</td>\n",
       "      <td>1</td>\n",
       "    </tr>\n",
       "    <tr>\n",
       "      <td>1</td>\n",
       "      <td>9208</td>\n",
       "      <td>150</td>\n",
       "      <td>723</td>\n",
       "      <td>1</td>\n",
       "    </tr>\n",
       "  </tbody>\n",
       "</table>\n",
       "</div>"
      ],
      "text/plain": [
       "                  uid   dt  active_mins  variant_number\n",
       "variant_number                                         \n",
       "0               37425  150          818               1\n",
       "1                9208  150          723               1"
      ]
     },
     "execution_count": 11,
     "metadata": {},
     "output_type": "execute_result"
    }
   ],
   "source": [
    "t1_t2_join.groupby(['variant_number']).nunique()"
   ]
  },
  {
   "cell_type": "code",
   "execution_count": 12,
   "metadata": {},
   "outputs": [
    {
     "data": {
      "text/html": [
       "<div>\n",
       "<style scoped>\n",
       "    .dataframe tbody tr th:only-of-type {\n",
       "        vertical-align: middle;\n",
       "    }\n",
       "\n",
       "    .dataframe tbody tr th {\n",
       "        vertical-align: top;\n",
       "    }\n",
       "\n",
       "    .dataframe thead th {\n",
       "        text-align: right;\n",
       "    }\n",
       "</style>\n",
       "<table border=\"1\" class=\"dataframe\">\n",
       "  <thead>\n",
       "    <tr style=\"text-align: right;\">\n",
       "      <th></th>\n",
       "      <th>uid</th>\n",
       "      <th>dt</th>\n",
       "      <th>active_mins</th>\n",
       "    </tr>\n",
       "    <tr>\n",
       "      <th>variant_number</th>\n",
       "      <th></th>\n",
       "      <th></th>\n",
       "      <th></th>\n",
       "    </tr>\n",
       "  </thead>\n",
       "  <tbody>\n",
       "    <tr>\n",
       "      <td>0</td>\n",
       "      <td>886957</td>\n",
       "      <td>886957</td>\n",
       "      <td>886957</td>\n",
       "    </tr>\n",
       "    <tr>\n",
       "      <td>1</td>\n",
       "      <td>179445</td>\n",
       "      <td>179445</td>\n",
       "      <td>179445</td>\n",
       "    </tr>\n",
       "  </tbody>\n",
       "</table>\n",
       "</div>"
      ],
      "text/plain": [
       "                   uid      dt  active_mins\n",
       "variant_number                             \n",
       "0               886957  886957       886957\n",
       "1               179445  179445       179445"
      ]
     },
     "execution_count": 12,
     "metadata": {},
     "output_type": "execute_result"
    }
   ],
   "source": [
    "t1_t2_join.groupby(['variant_number']).count()"
   ]
  },
  {
   "cell_type": "code",
   "execution_count": 13,
   "metadata": {},
   "outputs": [
    {
     "data": {
      "text/html": [
       "<div>\n",
       "<style scoped>\n",
       "    .dataframe tbody tr th:only-of-type {\n",
       "        vertical-align: middle;\n",
       "    }\n",
       "\n",
       "    .dataframe tbody tr th {\n",
       "        vertical-align: top;\n",
       "    }\n",
       "\n",
       "    .dataframe thead th {\n",
       "        text-align: right;\n",
       "    }\n",
       "</style>\n",
       "<table border=\"1\" class=\"dataframe\">\n",
       "  <thead>\n",
       "    <tr style=\"text-align: right;\">\n",
       "      <th></th>\n",
       "      <th>uid</th>\n",
       "      <th>active_mins</th>\n",
       "    </tr>\n",
       "    <tr>\n",
       "      <th>variant_number</th>\n",
       "      <th></th>\n",
       "      <th></th>\n",
       "    </tr>\n",
       "  </thead>\n",
       "  <tbody>\n",
       "    <tr>\n",
       "      <td>0</td>\n",
       "      <td>20010.716644</td>\n",
       "      <td>35.344199</td>\n",
       "    </tr>\n",
       "    <tr>\n",
       "      <td>1</td>\n",
       "      <td>45031.472228</td>\n",
       "      <td>40.240408</td>\n",
       "    </tr>\n",
       "  </tbody>\n",
       "</table>\n",
       "</div>"
      ],
      "text/plain": [
       "                         uid  active_mins\n",
       "variant_number                           \n",
       "0               20010.716644    35.344199\n",
       "1               45031.472228    40.240408"
      ]
     },
     "execution_count": 13,
     "metadata": {},
     "output_type": "execute_result"
    }
   ],
   "source": [
    "t1_t2_join.groupby(['variant_number']).mean()"
   ]
  },
  {
   "cell_type": "code",
   "execution_count": 14,
   "metadata": {},
   "outputs": [],
   "source": [
    "control = t1_t2_join.loc[t1_t2_join['variant_number']==0]\n",
    "exp = t1_t2_join.loc[t1_t2_join['variant_number']==1]"
   ]
  },
  {
   "cell_type": "markdown",
   "metadata": {},
   "source": [
    "## 1) Unit of Analysis"
   ]
  },
  {
   "cell_type": "markdown",
   "metadata": {},
   "source": [
    "Calculate sum active minutes per user for each sample \n",
    "--> Explore and remove outliers\n",
    "\n",
    "### Control group"
   ]
  },
  {
   "cell_type": "code",
   "execution_count": 15,
   "metadata": {},
   "outputs": [],
   "source": [
    "control_sum = control[['uid','active_mins']].groupby('uid').sum()"
   ]
  },
  {
   "cell_type": "code",
   "execution_count": 16,
   "metadata": {},
   "outputs": [
    {
     "data": {
      "text/html": [
       "<div>\n",
       "<style scoped>\n",
       "    .dataframe tbody tr th:only-of-type {\n",
       "        vertical-align: middle;\n",
       "    }\n",
       "\n",
       "    .dataframe tbody tr th {\n",
       "        vertical-align: top;\n",
       "    }\n",
       "\n",
       "    .dataframe thead th {\n",
       "        text-align: right;\n",
       "    }\n",
       "</style>\n",
       "<table border=\"1\" class=\"dataframe\">\n",
       "  <thead>\n",
       "    <tr style=\"text-align: right;\">\n",
       "      <th></th>\n",
       "      <th>active_mins</th>\n",
       "    </tr>\n",
       "    <tr>\n",
       "      <th>uid</th>\n",
       "      <th></th>\n",
       "    </tr>\n",
       "  </thead>\n",
       "  <tbody>\n",
       "    <tr>\n",
       "      <td>0</td>\n",
       "      <td>43.0</td>\n",
       "    </tr>\n",
       "    <tr>\n",
       "      <td>1</td>\n",
       "      <td>15205.0</td>\n",
       "    </tr>\n",
       "    <tr>\n",
       "      <td>2</td>\n",
       "      <td>17.0</td>\n",
       "    </tr>\n",
       "    <tr>\n",
       "      <td>3</td>\n",
       "      <td>77.0</td>\n",
       "    </tr>\n",
       "    <tr>\n",
       "      <td>4</td>\n",
       "      <td>39.0</td>\n",
       "    </tr>\n",
       "  </tbody>\n",
       "</table>\n",
       "</div>"
      ],
      "text/plain": [
       "     active_mins\n",
       "uid             \n",
       "0           43.0\n",
       "1        15205.0\n",
       "2           17.0\n",
       "3           77.0\n",
       "4           39.0"
      ]
     },
     "execution_count": 16,
     "metadata": {},
     "output_type": "execute_result"
    }
   ],
   "source": [
    "control_sum.head()"
   ]
  },
  {
   "cell_type": "code",
   "execution_count": 17,
   "metadata": {},
   "outputs": [
    {
     "name": "stdout",
     "output_type": "stream",
     "text": [
      "<class 'pandas.core.frame.DataFrame'>\n",
      "Int64Index: 37425 entries, 0 to 39999\n",
      "Data columns (total 1 columns):\n",
      "active_mins    37425 non-null float64\n",
      "dtypes: float64(1)\n",
      "memory usage: 584.8 KB\n"
     ]
    }
   ],
   "source": [
    "control_sum.info()"
   ]
  },
  {
   "cell_type": "code",
   "execution_count": 18,
   "metadata": {},
   "outputs": [
    {
     "data": {
      "text/plain": [
       "Text(0.5, 1.0, 'original distribution')"
      ]
     },
     "execution_count": 18,
     "metadata": {},
     "output_type": "execute_result"
    },
    {
     "data": {
      "image/png": "[encoded data removed]",
      "text/plain": [
       "<Figure size 432x288 with 1 Axes>"
      ]
     },
     "metadata": {
      "needs_background": "light"
     },
     "output_type": "display_data"
    }
   ],
   "source": [
    "sns.distplot(control_sum.active_mins)\n",
    "plt.title('original distribution')"
   ]
  },
  {
   "cell_type": "markdown",
   "metadata": {},
   "source": [
    "### Filter Outliers\n"
   ]
  },
  {
   "cell_type": "code",
   "execution_count": 19,
   "metadata": {},
   "outputs": [
    {
     "data": {
      "text/plain": [
       "175.0"
      ]
     },
     "execution_count": 19,
     "metadata": {},
     "output_type": "execute_result"
    }
   ],
   "source": [
    "stats.iqr(control_sum['active_mins'])"
   ]
  },
  {
   "cell_type": "code",
   "execution_count": 20,
   "metadata": {},
   "outputs": [
    {
     "data": {
      "text/plain": [
       "0.25     16.0\n",
       "0.75    191.0\n",
       "Name: active_mins, dtype: float64"
      ]
     },
     "execution_count": 20,
     "metadata": {},
     "output_type": "execute_result"
    }
   ],
   "source": [
    "control_sum['active_mins'].quantile([.25, .75])"
   ]
  },
  {
   "cell_type": "code",
   "execution_count": 21,
   "metadata": {},
   "outputs": [],
   "source": [
    "lower_whisker = 16 - 1.5*stats.iqr(control_sum['active_mins'])\n",
    "upper_whisker = 191 + 1.5*stats.iqr(control_sum['active_mins'])"
   ]
  },
  {
   "cell_type": "code",
   "execution_count": 22,
   "metadata": {},
   "outputs": [],
   "source": [
    "control_sum_nor = control_sum.loc[control_sum['active_mins']>lower_whisker]\n",
    "control_sum_nor = control_sum_nor.loc[control_sum_nor['active_mins']<upper_whisker]"
   ]
  },
  {
   "cell_type": "code",
   "execution_count": 23,
   "metadata": {},
   "outputs": [
    {
     "name": "stdout",
     "output_type": "stream",
     "text": [
      "<class 'pandas.core.frame.DataFrame'>\n",
      "Int64Index: 31870 entries, 0 to 39999\n",
      "Data columns (total 1 columns):\n",
      "active_mins    31870 non-null float64\n",
      "dtypes: float64(1)\n",
      "memory usage: 498.0 KB\n"
     ]
    }
   ],
   "source": [
    "control_sum_nor.info()"
   ]
  },
  {
   "cell_type": "code",
   "execution_count": 24,
   "metadata": {},
   "outputs": [
    {
     "data": {
      "text/plain": [
       "<matplotlib.axes._subplots.AxesSubplot at 0x1c22db0950>"
      ]
     },
     "execution_count": 24,
     "metadata": {},
     "output_type": "execute_result"
    },
    {
     "data": {
      "image/png": "[encoded data removed]",
      "text/plain": [
       "<Figure size 432x288 with 1 Axes>"
      ]
     },
     "metadata": {
      "needs_background": "light"
     },
     "output_type": "display_data"
    }
   ],
   "source": [
    "sns.distplot(control_sum_nor.active_mins)"
   ]
  },
  {
   "cell_type": "markdown",
   "metadata": {},
   "source": [
    "Since we see that this does not follow normal distribution, we are going to apply log to see if we can transform it to normal distribution."
   ]
  },
  {
   "cell_type": "code",
   "execution_count": 25,
   "metadata": {},
   "outputs": [],
   "source": [
    "control_sum_nor['log_mins'] = np.log(control_sum_nor['active_mins'])"
   ]
  },
  {
   "cell_type": "code",
   "execution_count": 26,
   "metadata": {},
   "outputs": [
    {
     "data": {
      "text/plain": [
       "<matplotlib.axes._subplots.AxesSubplot at 0x1c23ab21d0>"
      ]
     },
     "execution_count": 26,
     "metadata": {},
     "output_type": "execute_result"
    },
    {
     "data": {
      "image/png": "[encoded data removed]",
      "text/plain": [
       "<Figure size 432x288 with 1 Axes>"
      ]
     },
     "metadata": {
      "needs_background": "light"
     },
     "output_type": "display_data"
    }
   ],
   "source": [
    "sns.distplot(control_sum_nor.log_mins)"
   ]
  },
  {
   "cell_type": "markdown",
   "metadata": {},
   "source": [
    "### Experiment group"
   ]
  },
  {
   "cell_type": "code",
   "execution_count": 27,
   "metadata": {},
   "outputs": [
    {
     "name": "stdout",
     "output_type": "stream",
     "text": [
      "<class 'pandas.core.frame.DataFrame'>\n",
      "Int64Index: 179445 entries, 886957 to 1066401\n",
      "Data columns (total 4 columns):\n",
      "uid               179445 non-null int64\n",
      "dt                179445 non-null object\n",
      "active_mins       179445 non-null float64\n",
      "variant_number    179445 non-null int64\n",
      "dtypes: float64(1), int64(2), object(1)\n",
      "memory usage: 6.8+ MB\n"
     ]
    }
   ],
   "source": [
    "exp.info()"
   ]
  },
  {
   "cell_type": "code",
   "execution_count": 28,
   "metadata": {},
   "outputs": [
    {
     "data": {
      "text/html": [
       "<div>\n",
       "<style scoped>\n",
       "    .dataframe tbody tr th:only-of-type {\n",
       "        vertical-align: middle;\n",
       "    }\n",
       "\n",
       "    .dataframe tbody tr th {\n",
       "        vertical-align: top;\n",
       "    }\n",
       "\n",
       "    .dataframe thead th {\n",
       "        text-align: right;\n",
       "    }\n",
       "</style>\n",
       "<table border=\"1\" class=\"dataframe\">\n",
       "  <thead>\n",
       "    <tr style=\"text-align: right;\">\n",
       "      <th></th>\n",
       "      <th>active_mins</th>\n",
       "    </tr>\n",
       "    <tr>\n",
       "      <th>uid</th>\n",
       "      <th></th>\n",
       "    </tr>\n",
       "  </thead>\n",
       "  <tbody>\n",
       "    <tr>\n",
       "      <td>40000</td>\n",
       "      <td>25.0</td>\n",
       "    </tr>\n",
       "    <tr>\n",
       "      <td>40001</td>\n",
       "      <td>299.0</td>\n",
       "    </tr>\n",
       "    <tr>\n",
       "      <td>40002</td>\n",
       "      <td>183.0</td>\n",
       "    </tr>\n",
       "    <tr>\n",
       "      <td>40004</td>\n",
       "      <td>56.0</td>\n",
       "    </tr>\n",
       "    <tr>\n",
       "      <td>40005</td>\n",
       "      <td>289.0</td>\n",
       "    </tr>\n",
       "  </tbody>\n",
       "</table>\n",
       "</div>"
      ],
      "text/plain": [
       "       active_mins\n",
       "uid               \n",
       "40000         25.0\n",
       "40001        299.0\n",
       "40002        183.0\n",
       "40004         56.0\n",
       "40005        289.0"
      ]
     },
     "execution_count": 28,
     "metadata": {},
     "output_type": "execute_result"
    }
   ],
   "source": [
    "exp_sum = exp[['uid','active_mins']].groupby('uid').sum()\n",
    "exp_sum.head()"
   ]
  },
  {
   "cell_type": "code",
   "execution_count": 29,
   "metadata": {},
   "outputs": [
    {
     "data": {
      "text/plain": [
       "<matplotlib.axes._subplots.AxesSubplot at 0x1c240324d0>"
      ]
     },
     "execution_count": 29,
     "metadata": {},
     "output_type": "execute_result"
    },
    {
     "data": {
      "image/png": "[encoded data removed]",
      "text/plain": [
       "<Figure size 432x288 with 1 Axes>"
      ]
     },
     "metadata": {
      "needs_background": "light"
     },
     "output_type": "display_data"
    }
   ],
   "source": [
    "sns.distplot(exp_sum.active_mins)"
   ]
  },
  {
   "cell_type": "markdown",
   "metadata": {},
   "source": [
    "### Filter Outliers"
   ]
  },
  {
   "cell_type": "code",
   "execution_count": 30,
   "metadata": {},
   "outputs": [
    {
     "data": {
      "text/plain": [
       "204.0"
      ]
     },
     "execution_count": 30,
     "metadata": {},
     "output_type": "execute_result"
    }
   ],
   "source": [
    "stats.iqr(exp_sum['active_mins'])"
   ]
  },
  {
   "cell_type": "code",
   "execution_count": 31,
   "metadata": {},
   "outputs": [
    {
     "data": {
      "text/plain": [
       "0.25     23.0\n",
       "0.75    227.0\n",
       "Name: active_mins, dtype: float64"
      ]
     },
     "execution_count": 31,
     "metadata": {},
     "output_type": "execute_result"
    }
   ],
   "source": [
    "exp_sum['active_mins'].quantile([.25, .75])"
   ]
  },
  {
   "cell_type": "code",
   "execution_count": 32,
   "metadata": {},
   "outputs": [],
   "source": [
    "lower_whisker = 23 - 1.5*stats.iqr(exp_sum['active_mins'])\n",
    "upper_whisker = 227 + 1.5*stats.iqr(exp_sum['active_mins'])"
   ]
  },
  {
   "cell_type": "code",
   "execution_count": 33,
   "metadata": {},
   "outputs": [],
   "source": [
    "exp_sum_nor = exp_sum.loc[exp_sum['active_mins']>lower_whisker]\n",
    "exp_sum_nor = exp_sum_nor.loc[exp_sum_nor['active_mins']<upper_whisker]"
   ]
  },
  {
   "cell_type": "code",
   "execution_count": 34,
   "metadata": {},
   "outputs": [
    {
     "name": "stdout",
     "output_type": "stream",
     "text": [
      "<class 'pandas.core.frame.DataFrame'>\n",
      "Int64Index: 7932 entries, 40000 to 49999\n",
      "Data columns (total 1 columns):\n",
      "active_mins    7932 non-null float64\n",
      "dtypes: float64(1)\n",
      "memory usage: 123.9 KB\n"
     ]
    }
   ],
   "source": [
    "exp_sum_nor.info()"
   ]
  },
  {
   "cell_type": "code",
   "execution_count": 35,
   "metadata": {},
   "outputs": [
    {
     "data": {
      "text/plain": [
       "<matplotlib.axes._subplots.AxesSubplot at 0x1c25b98e10>"
      ]
     },
     "execution_count": 35,
     "metadata": {},
     "output_type": "execute_result"
    },
    {
     "data": {
      "image/png": "[encoded data removed]",
      "text/plain": [
       "<Figure size 432x288 with 1 Axes>"
      ]
     },
     "metadata": {
      "needs_background": "light"
     },
     "output_type": "display_data"
    }
   ],
   "source": [
    "sns.distplot(exp_sum_nor.active_mins)"
   ]
  },
  {
   "cell_type": "markdown",
   "metadata": {},
   "source": [
    "Since we see that this does not follow normal distribution, we are going to apply log to see if we can transform it to normal distribution."
   ]
  },
  {
   "cell_type": "code",
   "execution_count": 36,
   "metadata": {},
   "outputs": [],
   "source": [
    "exp_sum_nor['log_mins'] = np.log(exp_sum_nor['active_mins'])"
   ]
  },
  {
   "cell_type": "code",
   "execution_count": 37,
   "metadata": {},
   "outputs": [
    {
     "data": {
      "text/plain": [
       "<matplotlib.axes._subplots.AxesSubplot at 0x1c26050d10>"
      ]
     },
     "execution_count": 37,
     "metadata": {},
     "output_type": "execute_result"
    },
    {
     "data": {
      "image/png": "[encoded data removed]",
      "text/plain": [
       "<Figure size 432x288 with 1 Axes>"
      ]
     },
     "metadata": {
      "needs_background": "light"
     },
     "output_type": "display_data"
    }
   ],
   "source": [
    "sns.distplot(exp_sum_nor.log_mins)"
   ]
  },
  {
   "cell_type": "markdown",
   "metadata": {},
   "source": [
    "### Join 2 dataframe"
   ]
  },
  {
   "cell_type": "code",
   "execution_count": 38,
   "metadata": {},
   "outputs": [],
   "source": [
    "control_sum_nor['variant_number'] = 0\n",
    "control_sum_nor_sample = control_sum_nor.sample(n=8000)\n",
    "\n",
    "exp_sum_nor['variant_number'] = 1\n",
    "\n",
    "sum_join = pd.concat([control_sum_nor,exp_sum_nor])\n",
    "sum_join_boot = pd.concat([control_sum_nor_sample,exp_sum_nor])"
   ]
  },
  {
   "cell_type": "code",
   "execution_count": 39,
   "metadata": {},
   "outputs": [
    {
     "data": {
      "text/html": [
       "<div>\n",
       "<style scoped>\n",
       "    .dataframe tbody tr th:only-of-type {\n",
       "        vertical-align: middle;\n",
       "    }\n",
       "\n",
       "    .dataframe tbody tr th {\n",
       "        vertical-align: top;\n",
       "    }\n",
       "\n",
       "    .dataframe thead th {\n",
       "        text-align: right;\n",
       "    }\n",
       "</style>\n",
       "<table border=\"1\" class=\"dataframe\">\n",
       "  <thead>\n",
       "    <tr style=\"text-align: right;\">\n",
       "      <th></th>\n",
       "      <th>active_mins</th>\n",
       "      <th>log_mins</th>\n",
       "    </tr>\n",
       "    <tr>\n",
       "      <th>variant_number</th>\n",
       "      <th></th>\n",
       "      <th></th>\n",
       "    </tr>\n",
       "  </thead>\n",
       "  <tbody>\n",
       "    <tr>\n",
       "      <td>0</td>\n",
       "      <td>31870</td>\n",
       "      <td>31870</td>\n",
       "    </tr>\n",
       "    <tr>\n",
       "      <td>1</td>\n",
       "      <td>7932</td>\n",
       "      <td>7932</td>\n",
       "    </tr>\n",
       "  </tbody>\n",
       "</table>\n",
       "</div>"
      ],
      "text/plain": [
       "                active_mins  log_mins\n",
       "variant_number                       \n",
       "0                     31870     31870\n",
       "1                      7932      7932"
      ]
     },
     "execution_count": 39,
     "metadata": {},
     "output_type": "execute_result"
    }
   ],
   "source": [
    "sum_join.groupby('variant_number').count()"
   ]
  },
  {
   "cell_type": "code",
   "execution_count": 40,
   "metadata": {},
   "outputs": [
    {
     "data": {
      "text/html": [
       "<div>\n",
       "<style scoped>\n",
       "    .dataframe tbody tr th:only-of-type {\n",
       "        vertical-align: middle;\n",
       "    }\n",
       "\n",
       "    .dataframe tbody tr th {\n",
       "        vertical-align: top;\n",
       "    }\n",
       "\n",
       "    .dataframe thead th {\n",
       "        text-align: right;\n",
       "    }\n",
       "</style>\n",
       "<table border=\"1\" class=\"dataframe\">\n",
       "  <thead>\n",
       "    <tr style=\"text-align: right;\">\n",
       "      <th></th>\n",
       "      <th>active_mins</th>\n",
       "      <th>log_mins</th>\n",
       "    </tr>\n",
       "    <tr>\n",
       "      <th>variant_number</th>\n",
       "      <th></th>\n",
       "      <th></th>\n",
       "    </tr>\n",
       "  </thead>\n",
       "  <tbody>\n",
       "    <tr>\n",
       "      <td>0</td>\n",
       "      <td>8000</td>\n",
       "      <td>8000</td>\n",
       "    </tr>\n",
       "    <tr>\n",
       "      <td>1</td>\n",
       "      <td>7932</td>\n",
       "      <td>7932</td>\n",
       "    </tr>\n",
       "  </tbody>\n",
       "</table>\n",
       "</div>"
      ],
      "text/plain": [
       "                active_mins  log_mins\n",
       "variant_number                       \n",
       "0                      8000      8000\n",
       "1                      7932      7932"
      ]
     },
     "execution_count": 40,
     "metadata": {},
     "output_type": "execute_result"
    }
   ],
   "source": [
    "sum_join_boot.groupby('variant_number').count()"
   ]
  },
  {
   "cell_type": "markdown",
   "metadata": {},
   "source": [
    "## 2) Perform t-test"
   ]
  },
  {
   "cell_type": "markdown",
   "metadata": {},
   "source": [
    "Use only tables 1 (t1_user_active_min.csv) and 2 (t2_user_variant.csv) for this question. \n",
    "\n",
    "We suspect that there might be inaccuracies in the minutes spent on site data in some rows. Think about the definition of the metric and check if there are any outliers in the data. In this context, outliers mean numbers that are obviously different due to logging errors. If so, remove them; if not, use all the data. \n",
    "\n",
    "Using t-test under your assumption about variance, find an appropriate 95% confidence interval of the overall average treatment effect (using the unit of analysis you identified in the previous section).\n",
    "\n",
    "Enter the confidence interval below. Please round your answer to second place after the decimal.\n",
    "\n",
    "Based on your findings, what is your recommended course of action regarding the new UI design? You can justify your choice in the next box. Justify your answer."
   ]
  },
  {
   "cell_type": "markdown",
   "metadata": {},
   "source": [
    "**We are going to apply t-test on our log-transform data**"
   ]
  },
  {
   "cell_type": "code",
   "execution_count": 43,
   "metadata": {},
   "outputs": [],
   "source": [
    "def t_test_log(control, exp, variables):\n",
    "\n",
    "    \"\"\"Using parametric bootstrap method to draw the sample with replacement\n",
    "    and calculate the difference in mean between 2 samples until we reach normal distribution\n",
    "    control: control group\n",
    "    exp: experiment group\n",
    "    variables: subject of measurement\"\"\"\n",
    "    \n",
    "    print (\"Control group:\")\n",
    "    print (\"Mean of active mins = \", math.exp(control_sum_nor[variables].mean()))\n",
    "    print (\"Standard deviation of active mins = \", math.exp(control_sum_nor[variables].std()))\n",
    "    \n",
    "    print (\"Experimental group:\")\n",
    "    print (\"Mean of active mins = \", math.exp(exp_sum_nor[variables].mean()))\n",
    "    print (\"Standard deviation of active mins = \", math.exp(exp_sum_nor[variables].std()))\n",
    "    \n",
    "    # Supporting calculation for checking evaluation metrics\n",
    "    mean_dif = (exp[variables].mean() - control[variables].mean())\n",
    "    sd = math.sqrt((control[variables].std()**2)/len(control)\\\n",
    "                   +(exp[variables].std()**2)/len(exp))\n",
    "    \n",
    "    t_stats = mean_dif/sd\n",
    "    \n",
    "    print (\"Mean difference = \", math.exp(mean_dif))\n",
    "    print (\"T-test statistics = \", t_stats)\n",
    "    \n",
    "    margin_of_error = sd * stats.t.ppf((1 + 0.95) / 2., len(exp_sum_nor)-1)\n",
    "    \n",
    "    #Degrees of freedom\n",
    "    degree_of_freedom = (len(control_sum_nor) + len(exp_sum_nor)) - 2\n",
    "\n",
    "    #p-value after comparison with the t \n",
    "    p_value = 1 - stats.t.cdf(t_stats,df=degree_of_freedom)\n",
    "\n",
    "    print(\"P-value is: \", p_value)\n",
    "    \n",
    "    (LB_pool, UB_pool) = (math.exp(mean_dif - margin_of_error), math.exp(mean_dif + margin_of_error))\n",
    "    print (\"Confidential interval CI = \", (LB_pool, UB_pool))"
   ]
  },
  {
   "cell_type": "code",
   "execution_count": 44,
   "metadata": {},
   "outputs": [
    {
     "name": "stdout",
     "output_type": "stream",
     "text": [
      "Control group:\n",
      "Mean of active mins =  34.313410433706274\n",
      "Standard deviation of active mins =  4.102090369410104\n",
      "Experimental group:\n",
      "Mean of active mins =  46.13738983973328\n",
      "Standard deviation of active mins =  4.025751083721038\n",
      "Mean difference =  1.3445877065723622\n",
      "T-test statistics =  16.89727404928203\n",
      "P-value is:  0.0\n",
      "Confidential interval CI =  (1.299186297835253, 1.391575714489857)\n"
     ]
    }
   ],
   "source": [
    "t_test_log(control_sum_nor,exp_sum_nor, 'log_mins')"
   ]
  },
  {
   "cell_type": "markdown",
   "metadata": {},
   "source": [
    "### Bootstrap test"
   ]
  },
  {
   "cell_type": "markdown",
   "metadata": {},
   "source": [
    "Since we observed the distribution of the sum active minutes per user for each sample are not approximately normal, we are going to try the bootstrap approach as a sanity check for our hypothesis because bootstrap does not have any assumption about the distribution."
   ]
  },
  {
   "cell_type": "code",
   "execution_count": 45,
   "metadata": {},
   "outputs": [],
   "source": [
    "def bootstrap_t_test(table, variable, classes, repetitions):\n",
    "\n",
    "    \"\"\"Using parametric bootstrap method to draw the sample with replacement\n",
    "    and calculate the difference in mean between 2 samples until we reach normal distribution\n",
    "    table: name of table containing the sample\n",
    "    variable: label of column containing the numerical variable \n",
    "    classes: label of column containing names of the two samples\n",
    "    repetitions: number of random permutations\"\"\"\n",
    "\n",
    "    t = table[[variable, classes]]\n",
    "    t = t.reset_index()\n",
    "\n",
    "    # Find the observed test statistic\n",
    "    means_table = t.groupby([classes]).mean()\n",
    "    obs_stat = abs(means_table.iloc[1,1] - means_table.iloc[0,1])\n",
    "\n",
    "    # Assuming the null is true, randomly permute the variable \n",
    "    # and collect all the generated test statistics\n",
    "    stats = []\n",
    "    random.seed(1)\n",
    "\n",
    "    for i in np.arange(repetitions):\n",
    "        #sample with replacement\n",
    "        bootstrap_var = np.random.choice(t['uid'],10000)\n",
    "        boot = t[t['uid'].isin(bootstrap_var)]\n",
    "        m_tbl = boot.groupby([classes]).mean()\n",
    "        mean_diff = abs(m_tbl.iloc[1,1] - m_tbl.iloc[0,1])\n",
    "        stats = np.append(stats, mean_diff)\n",
    "\n",
    "    # Find the empirical P-value:\n",
    "    emp_p = (stats > obs_stat).sum()/repetitions\n",
    "    \n",
    "    \n",
    "    #confidence interval\n",
    "    left = np.quantile(stats,0.025)\n",
    "    right = np.quantile(stats,0.975)\n",
    "\n",
    "    # Draw the empirical histogram of the tvd's generated under the null, \n",
    "    # and compare with the value observed in the original sample\n",
    "    sns.distplot(stats, color='red')\n",
    "    plt.title('Empirical Distribution Under the Null')\n",
    "    plt.plot([left, right], [0, 0], color='blue', lw=8)\n",
    "    plt.axvline(obs_stat, color=\"k\", linestyle=\"--\")\n",
    "    print('Observed statistic:', obs_stat)\n",
    "    print('Empirical P-value:', emp_p)\n",
    "    print('Approximate 95% CI for the difference between means:')\n",
    "    print(left, 'to', right)"
   ]
  },
  {
   "cell_type": "code",
   "execution_count": 46,
   "metadata": {},
   "outputs": [
    {
     "name": "stdout",
     "output_type": "stream",
     "text": [
      "Observed statistic: 21.64826714573877\n",
      "Empirical P-value: 0.5014\n",
      "Approximate 95% CI for the difference between means:\n",
      "18.21339519520357 to 25.05216102423972\n"
     ]
    },
    {
     "data": {
      "image/png": "[encoded data removed]",
      "text/plain": [
       "<Figure size 432x288 with 1 Axes>"
      ]
     },
     "metadata": {
      "needs_background": "light"
     },
     "output_type": "display_data"
    }
   ],
   "source": [
    "bootstrap_t_test(sum_join_boot, 'active_mins', 'variant_number', 10000)"
   ]
  },
  {
   "cell_type": "markdown",
   "metadata": {},
   "source": [
    "## 3) Pre period test"
   ]
  },
  {
   "cell_type": "markdown",
   "metadata": {},
   "source": [
    "You decide to dive deeper into the data, so you gather a table of active minutes by user from before the experiment began. You should now use table 3 (t3_user_active_min_pre.csv) along with tables 1 and 2 for this question.\n",
    "\n",
    "Using the statistical method of your choice and the pre-experiment data, update your 95% confidence interval of the overall average treatment effect.\n",
    "\n",
    "Please enter your confidence interval below, after rounding your answer to second place after the decimal.\n",
    "\n",
    "How does the pre-experiment data change your conclusion about the treatment effect of the experiment? What method do you use to compute your updated treatment effect? "
   ]
  },
  {
   "cell_type": "code",
   "execution_count": 47,
   "metadata": {},
   "outputs": [
    {
     "data": {
      "text/html": [
       "<div>\n",
       "<style scoped>\n",
       "    .dataframe tbody tr th:only-of-type {\n",
       "        vertical-align: middle;\n",
       "    }\n",
       "\n",
       "    .dataframe tbody tr th {\n",
       "        vertical-align: top;\n",
       "    }\n",
       "\n",
       "    .dataframe thead th {\n",
       "        text-align: right;\n",
       "    }\n",
       "</style>\n",
       "<table border=\"1\" class=\"dataframe\">\n",
       "  <thead>\n",
       "    <tr style=\"text-align: right;\">\n",
       "      <th></th>\n",
       "      <th>uid</th>\n",
       "      <th>dt</th>\n",
       "      <th>active_mins</th>\n",
       "    </tr>\n",
       "  </thead>\n",
       "  <tbody>\n",
       "    <tr>\n",
       "      <td>0</td>\n",
       "      <td>0</td>\n",
       "      <td>2018-09-24</td>\n",
       "      <td>3.0</td>\n",
       "    </tr>\n",
       "    <tr>\n",
       "      <td>1</td>\n",
       "      <td>0</td>\n",
       "      <td>2018-11-08</td>\n",
       "      <td>4.0</td>\n",
       "    </tr>\n",
       "    <tr>\n",
       "      <td>2</td>\n",
       "      <td>0</td>\n",
       "      <td>2018-11-24</td>\n",
       "      <td>3.0</td>\n",
       "    </tr>\n",
       "    <tr>\n",
       "      <td>3</td>\n",
       "      <td>0</td>\n",
       "      <td>2018-11-28</td>\n",
       "      <td>6.0</td>\n",
       "    </tr>\n",
       "    <tr>\n",
       "      <td>4</td>\n",
       "      <td>0</td>\n",
       "      <td>2018-12-02</td>\n",
       "      <td>6.0</td>\n",
       "    </tr>\n",
       "  </tbody>\n",
       "</table>\n",
       "</div>"
      ],
      "text/plain": [
       "   uid          dt  active_mins\n",
       "0    0  2018-09-24          3.0\n",
       "1    0  2018-11-08          4.0\n",
       "2    0  2018-11-24          3.0\n",
       "3    0  2018-11-28          6.0\n",
       "4    0  2018-12-02          6.0"
      ]
     },
     "execution_count": 47,
     "metadata": {},
     "output_type": "execute_result"
    }
   ],
   "source": [
    "t3.head()"
   ]
  },
  {
   "cell_type": "code",
   "execution_count": 48,
   "metadata": {},
   "outputs": [
    {
     "name": "stdout",
     "output_type": "stream",
     "text": [
      "<class 'pandas.core.frame.DataFrame'>\n",
      "RangeIndex: 1190093 entries, 0 to 1190092\n",
      "Data columns (total 3 columns):\n",
      "uid            1190093 non-null int64\n",
      "dt             1190093 non-null object\n",
      "active_mins    1190093 non-null float64\n",
      "dtypes: float64(1), int64(1), object(1)\n",
      "memory usage: 27.2+ MB\n"
     ]
    }
   ],
   "source": [
    "t3.info()"
   ]
  },
  {
   "cell_type": "code",
   "execution_count": 49,
   "metadata": {},
   "outputs": [
    {
     "data": {
      "text/html": [
       "<div>\n",
       "<style scoped>\n",
       "    .dataframe tbody tr th:only-of-type {\n",
       "        vertical-align: middle;\n",
       "    }\n",
       "\n",
       "    .dataframe tbody tr th {\n",
       "        vertical-align: top;\n",
       "    }\n",
       "\n",
       "    .dataframe thead th {\n",
       "        text-align: right;\n",
       "    }\n",
       "</style>\n",
       "<table border=\"1\" class=\"dataframe\">\n",
       "  <thead>\n",
       "    <tr style=\"text-align: right;\">\n",
       "      <th></th>\n",
       "      <th>active_mins</th>\n",
       "    </tr>\n",
       "    <tr>\n",
       "      <th>uid</th>\n",
       "      <th></th>\n",
       "    </tr>\n",
       "  </thead>\n",
       "  <tbody>\n",
       "    <tr>\n",
       "      <td>0</td>\n",
       "      <td>70.0</td>\n",
       "    </tr>\n",
       "    <tr>\n",
       "      <td>1</td>\n",
       "      <td>19158.0</td>\n",
       "    </tr>\n",
       "    <tr>\n",
       "      <td>2</td>\n",
       "      <td>37.0</td>\n",
       "    </tr>\n",
       "    <tr>\n",
       "      <td>3</td>\n",
       "      <td>108.0</td>\n",
       "    </tr>\n",
       "    <tr>\n",
       "      <td>4</td>\n",
       "      <td>66.0</td>\n",
       "    </tr>\n",
       "  </tbody>\n",
       "</table>\n",
       "</div>"
      ],
      "text/plain": [
       "     active_mins\n",
       "uid             \n",
       "0           70.0\n",
       "1        19158.0\n",
       "2           37.0\n",
       "3          108.0\n",
       "4           66.0"
      ]
     },
     "execution_count": 49,
     "metadata": {},
     "output_type": "execute_result"
    }
   ],
   "source": [
    "pre_sum = t3[['uid','active_mins']].groupby('uid').sum()\n",
    "pre_sum.head()"
   ]
  },
  {
   "cell_type": "code",
   "execution_count": 50,
   "metadata": {},
   "outputs": [
    {
     "data": {
      "text/plain": [
       "<matplotlib.axes._subplots.AxesSubplot at 0x1c25dc5d90>"
      ]
     },
     "execution_count": 50,
     "metadata": {},
     "output_type": "execute_result"
    },
    {
     "data": {
      "image/png": "[encoded data removed]",
      "text/plain": [
       "<Figure size 432x288 with 1 Axes>"
      ]
     },
     "metadata": {
      "needs_background": "light"
     },
     "output_type": "display_data"
    }
   ],
   "source": [
    "sns.distplot(pre_sum[['active_mins']])"
   ]
  },
  {
   "cell_type": "markdown",
   "metadata": {},
   "source": [
    "### Filter Outliers"
   ]
  },
  {
   "cell_type": "code",
   "execution_count": 51,
   "metadata": {},
   "outputs": [
    {
     "data": {
      "text/plain": [
       "163.0"
      ]
     },
     "execution_count": 51,
     "metadata": {},
     "output_type": "execute_result"
    }
   ],
   "source": [
    "stats.iqr(pre_sum['active_mins'])"
   ]
  },
  {
   "cell_type": "code",
   "execution_count": 52,
   "metadata": {},
   "outputs": [
    {
     "data": {
      "text/plain": [
       "0.25     17.0\n",
       "0.75    180.0\n",
       "Name: active_mins, dtype: float64"
      ]
     },
     "execution_count": 52,
     "metadata": {},
     "output_type": "execute_result"
    }
   ],
   "source": [
    "pre_sum['active_mins'].quantile([.25, .75])"
   ]
  },
  {
   "cell_type": "code",
   "execution_count": 53,
   "metadata": {},
   "outputs": [],
   "source": [
    "lower_whisker = 17 - 1.5*stats.iqr(pre_sum['active_mins'])\n",
    "upper_whisker = 180 + 1.5*stats.iqr(pre_sum['active_mins'])"
   ]
  },
  {
   "cell_type": "code",
   "execution_count": 54,
   "metadata": {},
   "outputs": [],
   "source": [
    "pre_sum_nor = pre_sum.loc[pre_sum['active_mins']>lower_whisker]\n",
    "pre_sum_nor = pre_sum_nor.loc[pre_sum_nor['active_mins']<upper_whisker]"
   ]
  },
  {
   "cell_type": "code",
   "execution_count": 55,
   "metadata": {},
   "outputs": [
    {
     "data": {
      "text/plain": [
       "<matplotlib.axes._subplots.AxesSubplot at 0x1c27ddda50>"
      ]
     },
     "execution_count": 55,
     "metadata": {},
     "output_type": "execute_result"
    },
    {
     "data": {
      "image/png": "[encoded data removed]",
      "text/plain": [
       "<Figure size 432x288 with 1 Axes>"
      ]
     },
     "metadata": {
      "needs_background": "light"
     },
     "output_type": "display_data"
    }
   ],
   "source": [
    "sns.distplot(pre_sum_nor[['active_mins']])"
   ]
  },
  {
   "cell_type": "code",
   "execution_count": 56,
   "metadata": {},
   "outputs": [],
   "source": [
    "pre_sum_nor['log_mins'] = np.log(pre_sum_nor['active_mins'])"
   ]
  },
  {
   "cell_type": "code",
   "execution_count": 57,
   "metadata": {},
   "outputs": [
    {
     "data": {
      "text/plain": [
       "<matplotlib.axes._subplots.AxesSubplot at 0x1c27bd6290>"
      ]
     },
     "execution_count": 57,
     "metadata": {},
     "output_type": "execute_result"
    },
    {
     "data": {
      "image/png": "[encoded data removed]",
      "text/plain": [
       "<Figure size 432x288 with 1 Axes>"
      ]
     },
     "metadata": {
      "needs_background": "light"
     },
     "output_type": "display_data"
    }
   ],
   "source": [
    "sns.distplot(pre_sum_nor[['log_mins']])"
   ]
  },
  {
   "cell_type": "markdown",
   "metadata": {},
   "source": [
    "==> Approximately normal"
   ]
  },
  {
   "cell_type": "code",
   "execution_count": 58,
   "metadata": {},
   "outputs": [],
   "source": [
    "pre_sum_nor_index = pre_sum_nor.reset_index()\n",
    "first_half = pre_sum_nor_index.sample(frac=0.5)"
   ]
  },
  {
   "cell_type": "code",
   "execution_count": 59,
   "metadata": {},
   "outputs": [
    {
     "data": {
      "text/html": [
       "<div>\n",
       "<style scoped>\n",
       "    .dataframe tbody tr th:only-of-type {\n",
       "        vertical-align: middle;\n",
       "    }\n",
       "\n",
       "    .dataframe tbody tr th {\n",
       "        vertical-align: top;\n",
       "    }\n",
       "\n",
       "    .dataframe thead th {\n",
       "        text-align: right;\n",
       "    }\n",
       "</style>\n",
       "<table border=\"1\" class=\"dataframe\">\n",
       "  <thead>\n",
       "    <tr style=\"text-align: right;\">\n",
       "      <th></th>\n",
       "      <th>uid</th>\n",
       "      <th>active_mins</th>\n",
       "      <th>log_mins</th>\n",
       "    </tr>\n",
       "  </thead>\n",
       "  <tbody>\n",
       "    <tr>\n",
       "      <td>4</td>\n",
       "      <td>5</td>\n",
       "      <td>21.0</td>\n",
       "      <td>3.044522</td>\n",
       "    </tr>\n",
       "    <tr>\n",
       "      <td>5</td>\n",
       "      <td>6</td>\n",
       "      <td>12.0</td>\n",
       "      <td>2.484907</td>\n",
       "    </tr>\n",
       "    <tr>\n",
       "      <td>6</td>\n",
       "      <td>7</td>\n",
       "      <td>34.0</td>\n",
       "      <td>3.526361</td>\n",
       "    </tr>\n",
       "    <tr>\n",
       "      <td>7</td>\n",
       "      <td>8</td>\n",
       "      <td>17.0</td>\n",
       "      <td>2.833213</td>\n",
       "    </tr>\n",
       "    <tr>\n",
       "      <td>8</td>\n",
       "      <td>9</td>\n",
       "      <td>52.0</td>\n",
       "      <td>3.951244</td>\n",
       "    </tr>\n",
       "  </tbody>\n",
       "</table>\n",
       "</div>"
      ],
      "text/plain": [
       "   uid  active_mins  log_mins\n",
       "4    5         21.0  3.044522\n",
       "5    6         12.0  2.484907\n",
       "6    7         34.0  3.526361\n",
       "7    8         17.0  2.833213\n",
       "8    9         52.0  3.951244"
      ]
     },
     "execution_count": 59,
     "metadata": {},
     "output_type": "execute_result"
    }
   ],
   "source": [
    "first_half_filter = np.array(first_half.uid)\n",
    "second_half = pre_sum_nor_index[~pre_sum_nor_index.uid.isin(first_half_filter)]\n",
    "second_half.head()"
   ]
  },
  {
   "cell_type": "code",
   "execution_count": 60,
   "metadata": {},
   "outputs": [
    {
     "data": {
      "text/html": [
       "<div>\n",
       "<style scoped>\n",
       "    .dataframe tbody tr th:only-of-type {\n",
       "        vertical-align: middle;\n",
       "    }\n",
       "\n",
       "    .dataframe tbody tr th {\n",
       "        vertical-align: top;\n",
       "    }\n",
       "\n",
       "    .dataframe thead th {\n",
       "        text-align: right;\n",
       "    }\n",
       "</style>\n",
       "<table border=\"1\" class=\"dataframe\">\n",
       "  <thead>\n",
       "    <tr style=\"text-align: right;\">\n",
       "      <th></th>\n",
       "      <th>uid</th>\n",
       "      <th>active_mins</th>\n",
       "      <th>log_mins</th>\n",
       "    </tr>\n",
       "  </thead>\n",
       "  <tbody>\n",
       "    <tr>\n",
       "      <td>4895</td>\n",
       "      <td>5853</td>\n",
       "      <td>34.0</td>\n",
       "      <td>3.526361</td>\n",
       "    </tr>\n",
       "    <tr>\n",
       "      <td>18301</td>\n",
       "      <td>21776</td>\n",
       "      <td>9.0</td>\n",
       "      <td>2.197225</td>\n",
       "    </tr>\n",
       "    <tr>\n",
       "      <td>10361</td>\n",
       "      <td>12360</td>\n",
       "      <td>158.0</td>\n",
       "      <td>5.062595</td>\n",
       "    </tr>\n",
       "    <tr>\n",
       "      <td>38014</td>\n",
       "      <td>44846</td>\n",
       "      <td>45.0</td>\n",
       "      <td>3.806662</td>\n",
       "    </tr>\n",
       "    <tr>\n",
       "      <td>8313</td>\n",
       "      <td>9922</td>\n",
       "      <td>17.0</td>\n",
       "      <td>2.833213</td>\n",
       "    </tr>\n",
       "  </tbody>\n",
       "</table>\n",
       "</div>"
      ],
      "text/plain": [
       "         uid  active_mins  log_mins\n",
       "4895    5853         34.0  3.526361\n",
       "18301  21776          9.0  2.197225\n",
       "10361  12360        158.0  5.062595\n",
       "38014  44846         45.0  3.806662\n",
       "8313    9922         17.0  2.833213"
      ]
     },
     "execution_count": 60,
     "metadata": {},
     "output_type": "execute_result"
    }
   ],
   "source": [
    "first_half.head()"
   ]
  },
  {
   "cell_type": "markdown",
   "metadata": {},
   "source": [
    "### Perform t-test"
   ]
  },
  {
   "cell_type": "code",
   "execution_count": 61,
   "metadata": {},
   "outputs": [
    {
     "name": "stdout",
     "output_type": "stream",
     "text": [
      "Control group:\n",
      "Mean of active mins =  34.313410433706274\n",
      "Standard deviation of active mins =  4.102090369410104\n",
      "Experimental group:\n",
      "Mean of active mins =  46.13738983973328\n",
      "Standard deviation of active mins =  4.025751083721038\n",
      "Mean difference =  0.9968584270366079\n",
      "T-test statistics =  -0.23511695941986807\n",
      "P-value is:  0.5929404172458075\n",
      "Confidential interval CI =  (0.9710471201147197, 1.0233558217406598)\n"
     ]
    }
   ],
   "source": [
    "t_test_log(first_half,second_half,'log_mins')"
   ]
  },
  {
   "cell_type": "markdown",
   "metadata": {},
   "source": [
    "## 4) Sanity Check"
   ]
  },
  {
   "cell_type": "markdown",
   "metadata": {},
   "source": [
    "In real life, experiment results can be nuanced. We provide you now additionally table 4 (t4_user_attributes.csv), which might help you analyze the results better. You should think about the context of the experiment and hypothesize why the analysis above could be insufficient. Explore the data and share with us your insights!\n",
    "\n",
    "1. Given the new tables, were there any issues in treatment assignment? Was the treatment effect different for different covariates? \n",
    "\n",
    "2. Based on the new findings, what is your conclusion and what product recommendations would you make to the team?\n",
    "\n",
    "Summarize your findings in a brief write-up with up to 200 words, and include one or two plots that best represent your results. Submit a single PDF file, please."
   ]
  },
  {
   "cell_type": "code",
   "execution_count": 62,
   "metadata": {},
   "outputs": [
    {
     "data": {
      "text/html": [
       "<div>\n",
       "<style scoped>\n",
       "    .dataframe tbody tr th:only-of-type {\n",
       "        vertical-align: middle;\n",
       "    }\n",
       "\n",
       "    .dataframe tbody tr th {\n",
       "        vertical-align: top;\n",
       "    }\n",
       "\n",
       "    .dataframe thead th {\n",
       "        text-align: right;\n",
       "    }\n",
       "</style>\n",
       "<table border=\"1\" class=\"dataframe\">\n",
       "  <thead>\n",
       "    <tr style=\"text-align: right;\">\n",
       "      <th></th>\n",
       "      <th>uid</th>\n",
       "      <th>gender</th>\n",
       "      <th>user_type</th>\n",
       "    </tr>\n",
       "  </thead>\n",
       "  <tbody>\n",
       "    <tr>\n",
       "      <td>0</td>\n",
       "      <td>0</td>\n",
       "      <td>male</td>\n",
       "      <td>non_reader</td>\n",
       "    </tr>\n",
       "    <tr>\n",
       "      <td>1</td>\n",
       "      <td>1</td>\n",
       "      <td>male</td>\n",
       "      <td>reader</td>\n",
       "    </tr>\n",
       "    <tr>\n",
       "      <td>2</td>\n",
       "      <td>2</td>\n",
       "      <td>male</td>\n",
       "      <td>non_reader</td>\n",
       "    </tr>\n",
       "    <tr>\n",
       "      <td>3</td>\n",
       "      <td>3</td>\n",
       "      <td>male</td>\n",
       "      <td>non_reader</td>\n",
       "    </tr>\n",
       "    <tr>\n",
       "      <td>4</td>\n",
       "      <td>4</td>\n",
       "      <td>male</td>\n",
       "      <td>non_reader</td>\n",
       "    </tr>\n",
       "  </tbody>\n",
       "</table>\n",
       "</div>"
      ],
      "text/plain": [
       "   uid gender   user_type\n",
       "0    0   male  non_reader\n",
       "1    1   male      reader\n",
       "2    2   male  non_reader\n",
       "3    3   male  non_reader\n",
       "4    4   male  non_reader"
      ]
     },
     "execution_count": 62,
     "metadata": {},
     "output_type": "execute_result"
    }
   ],
   "source": [
    "t4.head()"
   ]
  },
  {
   "cell_type": "code",
   "execution_count": 63,
   "metadata": {},
   "outputs": [
    {
     "data": {
      "text/html": [
       "<div>\n",
       "<style scoped>\n",
       "    .dataframe tbody tr th:only-of-type {\n",
       "        vertical-align: middle;\n",
       "    }\n",
       "\n",
       "    .dataframe tbody tr th {\n",
       "        vertical-align: top;\n",
       "    }\n",
       "\n",
       "    .dataframe thead th {\n",
       "        text-align: right;\n",
       "    }\n",
       "</style>\n",
       "<table border=\"1\" class=\"dataframe\">\n",
       "  <thead>\n",
       "    <tr style=\"text-align: right;\">\n",
       "      <th></th>\n",
       "      <th>uid</th>\n",
       "      <th>active_mins</th>\n",
       "      <th>log_mins</th>\n",
       "      <th>variant_number</th>\n",
       "      <th>gender</th>\n",
       "      <th>user_type</th>\n",
       "    </tr>\n",
       "  </thead>\n",
       "  <tbody>\n",
       "    <tr>\n",
       "      <td>0</td>\n",
       "      <td>0</td>\n",
       "      <td>43.0</td>\n",
       "      <td>3.761200</td>\n",
       "      <td>0</td>\n",
       "      <td>male</td>\n",
       "      <td>non_reader</td>\n",
       "    </tr>\n",
       "    <tr>\n",
       "      <td>1</td>\n",
       "      <td>2</td>\n",
       "      <td>17.0</td>\n",
       "      <td>2.833213</td>\n",
       "      <td>0</td>\n",
       "      <td>male</td>\n",
       "      <td>non_reader</td>\n",
       "    </tr>\n",
       "    <tr>\n",
       "      <td>2</td>\n",
       "      <td>3</td>\n",
       "      <td>77.0</td>\n",
       "      <td>4.343805</td>\n",
       "      <td>0</td>\n",
       "      <td>male</td>\n",
       "      <td>non_reader</td>\n",
       "    </tr>\n",
       "    <tr>\n",
       "      <td>3</td>\n",
       "      <td>4</td>\n",
       "      <td>39.0</td>\n",
       "      <td>3.663562</td>\n",
       "      <td>0</td>\n",
       "      <td>male</td>\n",
       "      <td>non_reader</td>\n",
       "    </tr>\n",
       "    <tr>\n",
       "      <td>4</td>\n",
       "      <td>5</td>\n",
       "      <td>174.0</td>\n",
       "      <td>5.159055</td>\n",
       "      <td>0</td>\n",
       "      <td>female</td>\n",
       "      <td>non_reader</td>\n",
       "    </tr>\n",
       "  </tbody>\n",
       "</table>\n",
       "</div>"
      ],
      "text/plain": [
       "   uid  active_mins  log_mins  variant_number  gender   user_type\n",
       "0    0         43.0  3.761200               0    male  non_reader\n",
       "1    2         17.0  2.833213               0    male  non_reader\n",
       "2    3         77.0  4.343805               0    male  non_reader\n",
       "3    4         39.0  3.663562               0    male  non_reader\n",
       "4    5        174.0  5.159055               0  female  non_reader"
      ]
     },
     "execution_count": 63,
     "metadata": {},
     "output_type": "execute_result"
    }
   ],
   "source": [
    "cat_join = pd.merge(sum_join,t4, how='left', left_on='uid', right_on='uid')\n",
    "cat_join.head()"
   ]
  },
  {
   "cell_type": "code",
   "execution_count": 64,
   "metadata": {},
   "outputs": [
    {
     "data": {
      "text/html": [
       "<div>\n",
       "<style scoped>\n",
       "    .dataframe tbody tr th:only-of-type {\n",
       "        vertical-align: middle;\n",
       "    }\n",
       "\n",
       "    .dataframe tbody tr th {\n",
       "        vertical-align: top;\n",
       "    }\n",
       "\n",
       "    .dataframe thead th {\n",
       "        text-align: right;\n",
       "    }\n",
       "</style>\n",
       "<table border=\"1\" class=\"dataframe\">\n",
       "  <thead>\n",
       "    <tr style=\"text-align: right;\">\n",
       "      <th></th>\n",
       "      <th></th>\n",
       "      <th></th>\n",
       "      <th>uid</th>\n",
       "      <th>active_mins</th>\n",
       "      <th>log_mins</th>\n",
       "    </tr>\n",
       "    <tr>\n",
       "      <th>variant_number</th>\n",
       "      <th>gender</th>\n",
       "      <th>user_type</th>\n",
       "      <th></th>\n",
       "      <th></th>\n",
       "      <th></th>\n",
       "    </tr>\n",
       "  </thead>\n",
       "  <tbody>\n",
       "    <tr>\n",
       "      <td rowspan=\"12\" valign=\"top\">0</td>\n",
       "      <td rowspan=\"4\" valign=\"top\">female</td>\n",
       "      <td>contributor</td>\n",
       "      <td>1459793</td>\n",
       "      <td>14936.0</td>\n",
       "      <td>355.104449</td>\n",
       "    </tr>\n",
       "    <tr>\n",
       "      <td>new_user</td>\n",
       "      <td>15042594</td>\n",
       "      <td>14558.0</td>\n",
       "      <td>1569.889975</td>\n",
       "    </tr>\n",
       "    <tr>\n",
       "      <td>non_reader</td>\n",
       "      <td>154208489</td>\n",
       "      <td>456263.0</td>\n",
       "      <td>25682.897680</td>\n",
       "    </tr>\n",
       "    <tr>\n",
       "      <td>reader</td>\n",
       "      <td>17448861</td>\n",
       "      <td>171373.0</td>\n",
       "      <td>4361.596605</td>\n",
       "    </tr>\n",
       "    <tr>\n",
       "      <td rowspan=\"4\" valign=\"top\">male</td>\n",
       "      <td>contributor</td>\n",
       "      <td>2212073</td>\n",
       "      <td>22007.0</td>\n",
       "      <td>532.459440</td>\n",
       "    </tr>\n",
       "    <tr>\n",
       "      <td>new_user</td>\n",
       "      <td>21676645</td>\n",
       "      <td>22711.0</td>\n",
       "      <td>2385.368108</td>\n",
       "    </tr>\n",
       "    <tr>\n",
       "      <td>non_reader</td>\n",
       "      <td>290478952</td>\n",
       "      <td>1066761.0</td>\n",
       "      <td>52643.616188</td>\n",
       "    </tr>\n",
       "    <tr>\n",
       "      <td>reader</td>\n",
       "      <td>32414949</td>\n",
       "      <td>315106.0</td>\n",
       "      <td>7898.288982</td>\n",
       "    </tr>\n",
       "    <tr>\n",
       "      <td rowspan=\"4\" valign=\"top\">unknown</td>\n",
       "      <td>contributor</td>\n",
       "      <td>481658</td>\n",
       "      <td>4212.0</td>\n",
       "      <td>136.823953</td>\n",
       "    </tr>\n",
       "    <tr>\n",
       "      <td>new_user</td>\n",
       "      <td>9613097</td>\n",
       "      <td>9877.0</td>\n",
       "      <td>981.192715</td>\n",
       "    </tr>\n",
       "    <tr>\n",
       "      <td>non_reader</td>\n",
       "      <td>84412175</td>\n",
       "      <td>262568.0</td>\n",
       "      <td>14349.387865</td>\n",
       "    </tr>\n",
       "    <tr>\n",
       "      <td>reader</td>\n",
       "      <td>7496150</td>\n",
       "      <td>69728.0</td>\n",
       "      <td>1780.914407</td>\n",
       "    </tr>\n",
       "    <tr>\n",
       "      <td rowspan=\"12\" valign=\"top\">1</td>\n",
       "      <td rowspan=\"4\" valign=\"top\">female</td>\n",
       "      <td>contributor</td>\n",
       "      <td>239063</td>\n",
       "      <td>727.0</td>\n",
       "      <td>23.025205</td>\n",
       "    </tr>\n",
       "    <tr>\n",
       "      <td>new_user</td>\n",
       "      <td>12278496</td>\n",
       "      <td>9928.0</td>\n",
       "      <td>715.573260</td>\n",
       "    </tr>\n",
       "    <tr>\n",
       "      <td>non_reader</td>\n",
       "      <td>84503753</td>\n",
       "      <td>152674.0</td>\n",
       "      <td>6904.175957</td>\n",
       "    </tr>\n",
       "    <tr>\n",
       "      <td>reader</td>\n",
       "      <td>6801420</td>\n",
       "      <td>36734.0</td>\n",
       "      <td>779.051775</td>\n",
       "    </tr>\n",
       "    <tr>\n",
       "      <td rowspan=\"4\" valign=\"top\">male</td>\n",
       "      <td>contributor</td>\n",
       "      <td>783107</td>\n",
       "      <td>2800.0</td>\n",
       "      <td>80.160274</td>\n",
       "    </tr>\n",
       "    <tr>\n",
       "      <td>new_user</td>\n",
       "      <td>16707804</td>\n",
       "      <td>13438.0</td>\n",
       "      <td>998.425339</td>\n",
       "    </tr>\n",
       "    <tr>\n",
       "      <td>non_reader</td>\n",
       "      <td>165655856</td>\n",
       "      <td>380504.0</td>\n",
       "      <td>14742.996582</td>\n",
       "    </tr>\n",
       "    <tr>\n",
       "      <td>reader</td>\n",
       "      <td>11575258</td>\n",
       "      <td>56549.0</td>\n",
       "      <td>1279.317969</td>\n",
       "    </tr>\n",
       "    <tr>\n",
       "      <td rowspan=\"4\" valign=\"top\">unknown</td>\n",
       "      <td>contributor</td>\n",
       "      <td>462199</td>\n",
       "      <td>1437.0</td>\n",
       "      <td>45.702802</td>\n",
       "    </tr>\n",
       "    <tr>\n",
       "      <td>new_user</td>\n",
       "      <td>7003623</td>\n",
       "      <td>5391.0</td>\n",
       "      <td>408.463483</td>\n",
       "    </tr>\n",
       "    <tr>\n",
       "      <td>non_reader</td>\n",
       "      <td>47350829</td>\n",
       "      <td>95766.0</td>\n",
       "      <td>4022.627966</td>\n",
       "    </tr>\n",
       "    <tr>\n",
       "      <td>reader</td>\n",
       "      <td>3578854</td>\n",
       "      <td>17438.0</td>\n",
       "      <td>392.918424</td>\n",
       "    </tr>\n",
       "  </tbody>\n",
       "</table>\n",
       "</div>"
      ],
      "text/plain": [
       "                                          uid  active_mins      log_mins\n",
       "variant_number gender  user_type                                        \n",
       "0              female  contributor    1459793      14936.0    355.104449\n",
       "                       new_user      15042594      14558.0   1569.889975\n",
       "                       non_reader   154208489     456263.0  25682.897680\n",
       "                       reader        17448861     171373.0   4361.596605\n",
       "               male    contributor    2212073      22007.0    532.459440\n",
       "                       new_user      21676645      22711.0   2385.368108\n",
       "                       non_reader   290478952    1066761.0  52643.616188\n",
       "                       reader        32414949     315106.0   7898.288982\n",
       "               unknown contributor     481658       4212.0    136.823953\n",
       "                       new_user       9613097       9877.0    981.192715\n",
       "                       non_reader    84412175     262568.0  14349.387865\n",
       "                       reader         7496150      69728.0   1780.914407\n",
       "1              female  contributor     239063        727.0     23.025205\n",
       "                       new_user      12278496       9928.0    715.573260\n",
       "                       non_reader    84503753     152674.0   6904.175957\n",
       "                       reader         6801420      36734.0    779.051775\n",
       "               male    contributor     783107       2800.0     80.160274\n",
       "                       new_user      16707804      13438.0    998.425339\n",
       "                       non_reader   165655856     380504.0  14742.996582\n",
       "                       reader        11575258      56549.0   1279.317969\n",
       "               unknown contributor     462199       1437.0     45.702802\n",
       "                       new_user       7003623       5391.0    408.463483\n",
       "                       non_reader    47350829      95766.0   4022.627966\n",
       "                       reader         3578854      17438.0    392.918424"
      ]
     },
     "execution_count": 64,
     "metadata": {},
     "output_type": "execute_result"
    }
   ],
   "source": [
    "#summary statistics\n",
    "cat_join.groupby(['variant_number','gender','user_type']).sum()"
   ]
  },
  {
   "cell_type": "markdown",
   "metadata": {},
   "source": [
    "We can break it down into sub-category and do t-test to examine if there is a Simpson Paradox"
   ]
  },
  {
   "cell_type": "code",
   "execution_count": 65,
   "metadata": {},
   "outputs": [
    {
     "data": {
      "text/plain": [
       "<seaborn.axisgrid.FacetGrid at 0x1c25e780d0>"
      ]
     },
     "execution_count": 65,
     "metadata": {},
     "output_type": "execute_result"
    },
    {
     "data": {
      "image/png": "[encoded data removed]",
      "text/plain": [
       "<Figure size 403.2x288 with 2 Axes>"
      ]
     },
     "metadata": {},
     "output_type": "display_data"
    }
   ],
   "source": [
    "sns.set(rc={'figure.figsize':(15, 7)})\n",
    "\n",
    "sns.catplot(x=\"gender\", y=\"active_mins\",\n",
    "                col=\"variant_number\",\n",
    "                data=cat_join, kind=\"bar\",\n",
    "                height=4, aspect=.7, palette='husl')"
   ]
  },
  {
   "cell_type": "code",
   "execution_count": 66,
   "metadata": {},
   "outputs": [
    {
     "data": {
      "text/plain": [
       "<seaborn.axisgrid.FacetGrid at 0x1c27d56f50>"
      ]
     },
     "execution_count": 66,
     "metadata": {},
     "output_type": "execute_result"
    },
    {
     "data": {
      "image/png": "[encoded data removed]",
      "text/plain": [
       "<Figure size 403.2x288 with 2 Axes>"
      ]
     },
     "metadata": {},
     "output_type": "display_data"
    }
   ],
   "source": [
    "chart1 = sns.catplot(x=\"user_type\", y=\"active_mins\",\n",
    "                col=\"variant_number\",\n",
    "                data=cat_join, kind=\"bar\",\n",
    "                height=4, aspect=.7, palette='husl')\n",
    "chart1.set_xticklabels(rotation=45)\n"
   ]
  },
  {
   "cell_type": "markdown",
   "metadata": {},
   "source": [
    "## Segment users"
   ]
  },
  {
   "cell_type": "code",
   "execution_count": 67,
   "metadata": {},
   "outputs": [],
   "source": [
    "cat_join['log_mins'] = np.log(cat_join['active_mins'])"
   ]
  },
  {
   "cell_type": "code",
   "execution_count": 68,
   "metadata": {},
   "outputs": [],
   "source": [
    "control_cat = cat_join[cat_join['variant_number']==0]\n",
    "exp_cat = cat_join[cat_join['variant_number']==1]"
   ]
  },
  {
   "cell_type": "markdown",
   "metadata": {},
   "source": [
    "Segment by gender"
   ]
  },
  {
   "cell_type": "code",
   "execution_count": 69,
   "metadata": {},
   "outputs": [],
   "source": [
    "#control\n",
    "control_female = control_cat[control_cat['gender']=='female']\n",
    "control_male = control_cat[control_cat['gender']=='male']\n",
    "control_unknown = control_cat[control_cat['gender']=='unknown']\n",
    "\n",
    "#exp\n",
    "exp_female = exp_cat[exp_cat['gender']=='female']\n",
    "exp_male = exp_cat[exp_cat['gender']=='male']\n",
    "exp_unknown = exp_cat[exp_cat['gender']=='unknown']"
   ]
  },
  {
   "cell_type": "markdown",
   "metadata": {},
   "source": [
    "Segment by user_type"
   ]
  },
  {
   "cell_type": "code",
   "execution_count": 70,
   "metadata": {},
   "outputs": [],
   "source": [
    "#control\n",
    "control_nonreader = control_cat[control_cat['user_type']=='non_reader']\n",
    "control_reader = control_cat[control_cat['user_type']=='reader']\n",
    "control_contributor = control_cat[control_cat['user_type']=='contributor']\n",
    "control_newuser = control_cat[control_cat['user_type']=='new_user']\n",
    "\n",
    "#exp\n",
    "exp_nonreader = exp_cat[exp_cat['user_type']=='non_reader']\n",
    "exp_reader = exp_cat[exp_cat['user_type']=='reader']\n",
    "exp_contributor = exp_cat[exp_cat['user_type']=='contributor']\n",
    "exp_newuser = exp_cat[exp_cat['user_type']=='new_user']"
   ]
  },
  {
   "cell_type": "markdown",
   "metadata": {},
   "source": [
    "### Conduct t-test"
   ]
  },
  {
   "cell_type": "code",
   "execution_count": 71,
   "metadata": {},
   "outputs": [
    {
     "name": "stdout",
     "output_type": "stream",
     "text": [
      "Control group:\n",
      "Mean of active mins =  34.313410433706274\n",
      "Standard deviation of active mins =  4.102090369410104\n",
      "Experimental group:\n",
      "Mean of active mins =  46.13738983973328\n",
      "Standard deviation of active mins =  4.025751083721038\n",
      "Mean difference =  1.2959077048455387\n",
      "T-test statistics =  7.8057632570989375\n",
      "P-value is:  2.9976021664879227e-15\n",
      "Confidential interval CI =  (1.2142365990956077, 1.3830721135640878)\n"
     ]
    }
   ],
   "source": [
    "#gender\n",
    "t_test_log(control_female,exp_female,'log_mins')"
   ]
  },
  {
   "cell_type": "code",
   "execution_count": 72,
   "metadata": {},
   "outputs": [
    {
     "name": "stdout",
     "output_type": "stream",
     "text": [
      "Control group:\n",
      "Mean of active mins =  34.313410433706274\n",
      "Standard deviation of active mins =  4.102090369410104\n",
      "Experimental group:\n",
      "Mean of active mins =  46.13738983973328\n",
      "Standard deviation of active mins =  4.025751083721038\n",
      "Mean difference =  1.3454916449866237\n",
      "T-test statistics =  12.811686034488702\n",
      "P-value is:  0.0\n",
      "Confidential interval CI =  (1.285764572527725, 1.407993193629368)\n"
     ]
    }
   ],
   "source": [
    "t_test_log(control_male,exp_male,'log_mins')"
   ]
  },
  {
   "cell_type": "code",
   "execution_count": 73,
   "metadata": {},
   "outputs": [
    {
     "name": "stdout",
     "output_type": "stream",
     "text": [
      "Control group:\n",
      "Mean of active mins =  34.313410433706274\n",
      "Standard deviation of active mins =  4.102090369410104\n",
      "Experimental group:\n",
      "Mean of active mins =  46.13738983973328\n",
      "Standard deviation of active mins =  4.025751083721038\n",
      "Mean difference =  1.4306673152331675\n",
      "T-test statistics =  8.170031112885916\n",
      "P-value is:  2.220446049250313e-16\n",
      "Confidential interval CI =  (1.3128640033494552, 1.5590411205231773)\n"
     ]
    }
   ],
   "source": [
    "t_test_log(control_unknown,exp_unknown,'log_mins')"
   ]
  },
  {
   "cell_type": "code",
   "execution_count": 74,
   "metadata": {},
   "outputs": [
    {
     "name": "stdout",
     "output_type": "stream",
     "text": [
      "Control group:\n",
      "Mean of active mins =  34.313410433706274\n",
      "Standard deviation of active mins =  4.102090369410104\n",
      "Experimental group:\n",
      "Mean of active mins =  46.13738983973328\n",
      "Standard deviation of active mins =  4.025751083721038\n",
      "Mean difference =  1.4545037951912694\n",
      "T-test statistics =  20.761080500961146\n",
      "P-value is:  0.0\n",
      "Confidential interval CI =  (1.4039489188303091, 1.5068791049665742)\n"
     ]
    }
   ],
   "source": [
    "t_test_log(control_nonreader,exp_nonreader,'log_mins')"
   ]
  },
  {
   "cell_type": "code",
   "execution_count": 75,
   "metadata": {},
   "outputs": [
    {
     "name": "stdout",
     "output_type": "stream",
     "text": [
      "Control group:\n",
      "Mean of active mins =  34.313410433706274\n",
      "Standard deviation of active mins =  4.102090369410104\n",
      "Experimental group:\n",
      "Mean of active mins =  46.13738983973328\n",
      "Standard deviation of active mins =  4.025751083721038\n",
      "Mean difference =  1.1614734437175838\n",
      "T-test statistics =  2.764910147570749\n",
      "P-value is:  0.002848234291462859\n",
      "Confidential interval CI =  (1.0445255532932516, 1.2915151345104954)\n"
     ]
    }
   ],
   "source": [
    "t_test_log(control_reader,exp_reader,'log_mins')"
   ]
  },
  {
   "cell_type": "code",
   "execution_count": 76,
   "metadata": {},
   "outputs": [
    {
     "name": "stdout",
     "output_type": "stream",
     "text": [
      "Control group:\n",
      "Mean of active mins =  34.313410433706274\n",
      "Standard deviation of active mins =  4.102090369410104\n",
      "Experimental group:\n",
      "Mean of active mins =  46.13738983973328\n",
      "Standard deviation of active mins =  4.025751083721038\n",
      "Mean difference =  0.6773202037118512\n",
      "T-test statistics =  -1.5821811102465961\n",
      "P-value is:  0.9431919113544908\n",
      "Confidential interval CI =  (0.4179787189932277, 1.0975742005747826)\n"
     ]
    }
   ],
   "source": [
    "t_test_log(control_contributor,exp_contributor,'log_mins')"
   ]
  },
  {
   "cell_type": "markdown",
   "metadata": {},
   "source": [
    "**The t-test for \"contributor\" user type does not show to be statistically significant since the p-value is larger than our signficance level alpha of 0.05**"
   ]
  },
  {
   "cell_type": "code",
   "execution_count": 77,
   "metadata": {},
   "outputs": [
    {
     "name": "stdout",
     "output_type": "stream",
     "text": [
      "Control group:\n",
      "Mean of active mins =  34.313410433706274\n",
      "Standard deviation of active mins =  4.102090369410104\n",
      "Experimental group:\n",
      "Mean of active mins =  46.13738983973328\n",
      "Standard deviation of active mins =  4.025751083721038\n",
      "Mean difference =  1.7584964926201134\n",
      "T-test statistics =  10.21657333566919\n",
      "P-value is:  0.0\n",
      "Confidential interval CI =  (1.577996314063395, 1.9596433065134582)\n"
     ]
    }
   ],
   "source": [
    "t_test_log(control_newuser,exp_newuser,'log_mins')"
   ]
  },
  {
   "cell_type": "markdown",
   "metadata": {},
   "source": [
    "### Test the pre-period by segments"
   ]
  },
  {
   "cell_type": "code",
   "execution_count": 78,
   "metadata": {},
   "outputs": [
    {
     "name": "stderr",
     "output_type": "stream",
     "text": [
      "/Users/giangnguyen/opt/anaconda3/lib/python3.7/site-packages/ipykernel_launcher.py:2: SettingWithCopyWarning: \n",
      "A value is trying to be set on a copy of a slice from a DataFrame.\n",
      "Try using .loc[row_indexer,col_indexer] = value instead\n",
      "\n",
      "See the caveats in the documentation: http://pandas.pydata.org/pandas-docs/stable/user_guide/indexing.html#returning-a-view-versus-a-copy\n",
      "  \n"
     ]
    }
   ],
   "source": [
    "first_half['variant_number'] = 0 \n",
    "second_half['variant_number'] = 1\n",
    "\n",
    "first_join = pd.merge(first_half,t4, how='left', left_on='uid', right_on='uid')\n",
    "second_join = pd.merge(second_half,t4, how='left', left_on='uid', right_on='uid')\n",
    "\n",
    "cat_join_pre = pd.concat([first_join,second_join])"
   ]
  },
  {
   "cell_type": "code",
   "execution_count": 79,
   "metadata": {},
   "outputs": [
    {
     "name": "stdout",
     "output_type": "stream",
     "text": [
      "<class 'pandas.core.frame.DataFrame'>\n",
      "Int64Index: 42578 entries, 0 to 21288\n",
      "Data columns (total 6 columns):\n",
      "uid               42578 non-null int64\n",
      "active_mins       42578 non-null float64\n",
      "log_mins          42578 non-null float64\n",
      "variant_number    42578 non-null int64\n",
      "gender            42578 non-null object\n",
      "user_type         42578 non-null object\n",
      "dtypes: float64(2), int64(2), object(2)\n",
      "memory usage: 2.3+ MB\n"
     ]
    }
   ],
   "source": [
    "cat_join_pre.info()"
   ]
  },
  {
   "cell_type": "code",
   "execution_count": 80,
   "metadata": {},
   "outputs": [
    {
     "data": {
      "text/html": [
       "<div>\n",
       "<style scoped>\n",
       "    .dataframe tbody tr th:only-of-type {\n",
       "        vertical-align: middle;\n",
       "    }\n",
       "\n",
       "    .dataframe tbody tr th {\n",
       "        vertical-align: top;\n",
       "    }\n",
       "\n",
       "    .dataframe thead th {\n",
       "        text-align: right;\n",
       "    }\n",
       "</style>\n",
       "<table border=\"1\" class=\"dataframe\">\n",
       "  <thead>\n",
       "    <tr style=\"text-align: right;\">\n",
       "      <th></th>\n",
       "      <th></th>\n",
       "      <th></th>\n",
       "      <th>uid</th>\n",
       "      <th>active_mins</th>\n",
       "      <th>log_mins</th>\n",
       "    </tr>\n",
       "    <tr>\n",
       "      <th>variant_number</th>\n",
       "      <th>gender</th>\n",
       "      <th>user_type</th>\n",
       "      <th></th>\n",
       "      <th></th>\n",
       "      <th></th>\n",
       "    </tr>\n",
       "  </thead>\n",
       "  <tbody>\n",
       "    <tr>\n",
       "      <td rowspan=\"12\" valign=\"top\">0</td>\n",
       "      <td rowspan=\"4\" valign=\"top\">female</td>\n",
       "      <td>contributor</td>\n",
       "      <td>583831</td>\n",
       "      <td>4747.0</td>\n",
       "      <td>134.983666</td>\n",
       "    </tr>\n",
       "    <tr>\n",
       "      <td>new_user</td>\n",
       "      <td>20172474</td>\n",
       "      <td>4344.0</td>\n",
       "      <td>980.653539</td>\n",
       "    </tr>\n",
       "    <tr>\n",
       "      <td>non_reader</td>\n",
       "      <td>128561506</td>\n",
       "      <td>313531.0</td>\n",
       "      <td>18067.499964</td>\n",
       "    </tr>\n",
       "    <tr>\n",
       "      <td>reader</td>\n",
       "      <td>11208374</td>\n",
       "      <td>93598.0</td>\n",
       "      <td>2395.387314</td>\n",
       "    </tr>\n",
       "    <tr>\n",
       "      <td rowspan=\"4\" valign=\"top\">male</td>\n",
       "      <td>contributor</td>\n",
       "      <td>1299341</td>\n",
       "      <td>13127.0</td>\n",
       "      <td>289.344057</td>\n",
       "    </tr>\n",
       "    <tr>\n",
       "      <td>new_user</td>\n",
       "      <td>28953486</td>\n",
       "      <td>6480.0</td>\n",
       "      <td>1454.349537</td>\n",
       "    </tr>\n",
       "    <tr>\n",
       "      <td>non_reader</td>\n",
       "      <td>237617673</td>\n",
       "      <td>744543.0</td>\n",
       "      <td>36246.747335</td>\n",
       "    </tr>\n",
       "    <tr>\n",
       "      <td>reader</td>\n",
       "      <td>20251700</td>\n",
       "      <td>169078.0</td>\n",
       "      <td>4224.329155</td>\n",
       "    </tr>\n",
       "    <tr>\n",
       "      <td rowspan=\"4\" valign=\"top\">unknown</td>\n",
       "      <td>contributor</td>\n",
       "      <td>450372</td>\n",
       "      <td>3099.0</td>\n",
       "      <td>83.961667</td>\n",
       "    </tr>\n",
       "    <tr>\n",
       "      <td>new_user</td>\n",
       "      <td>12236048</td>\n",
       "      <td>2996.0</td>\n",
       "      <td>623.027579</td>\n",
       "    </tr>\n",
       "    <tr>\n",
       "      <td>non_reader</td>\n",
       "      <td>70802646</td>\n",
       "      <td>187190.0</td>\n",
       "      <td>10215.599313</td>\n",
       "    </tr>\n",
       "    <tr>\n",
       "      <td>reader</td>\n",
       "      <td>5544999</td>\n",
       "      <td>40032.0</td>\n",
       "      <td>1026.990798</td>\n",
       "    </tr>\n",
       "    <tr>\n",
       "      <td rowspan=\"12\" valign=\"top\">1</td>\n",
       "      <td rowspan=\"4\" valign=\"top\">female</td>\n",
       "      <td>contributor</td>\n",
       "      <td>543948</td>\n",
       "      <td>5073.0</td>\n",
       "      <td>136.866722</td>\n",
       "    </tr>\n",
       "    <tr>\n",
       "      <td>new_user</td>\n",
       "      <td>19484349</td>\n",
       "      <td>3962.0</td>\n",
       "      <td>944.025437</td>\n",
       "    </tr>\n",
       "    <tr>\n",
       "      <td>non_reader</td>\n",
       "      <td>125712925</td>\n",
       "      <td>312380.0</td>\n",
       "      <td>17817.883868</td>\n",
       "    </tr>\n",
       "    <tr>\n",
       "      <td>reader</td>\n",
       "      <td>11854079</td>\n",
       "      <td>98355.0</td>\n",
       "      <td>2461.829678</td>\n",
       "    </tr>\n",
       "    <tr>\n",
       "      <td rowspan=\"4\" valign=\"top\">male</td>\n",
       "      <td>contributor</td>\n",
       "      <td>1302462</td>\n",
       "      <td>10795.0</td>\n",
       "      <td>259.472139</td>\n",
       "    </tr>\n",
       "    <tr>\n",
       "      <td>new_user</td>\n",
       "      <td>29017518</td>\n",
       "      <td>6994.0</td>\n",
       "      <td>1477.944766</td>\n",
       "    </tr>\n",
       "    <tr>\n",
       "      <td>non_reader</td>\n",
       "      <td>239750552</td>\n",
       "      <td>742222.0</td>\n",
       "      <td>36188.281393</td>\n",
       "    </tr>\n",
       "    <tr>\n",
       "      <td>reader</td>\n",
       "      <td>22380929</td>\n",
       "      <td>189608.0</td>\n",
       "      <td>4650.549169</td>\n",
       "    </tr>\n",
       "    <tr>\n",
       "      <td rowspan=\"4\" valign=\"top\">unknown</td>\n",
       "      <td>contributor</td>\n",
       "      <td>465509</td>\n",
       "      <td>3847.0</td>\n",
       "      <td>86.007079</td>\n",
       "    </tr>\n",
       "    <tr>\n",
       "      <td>new_user</td>\n",
       "      <td>12500033</td>\n",
       "      <td>2749.0</td>\n",
       "      <td>615.236159</td>\n",
       "    </tr>\n",
       "    <tr>\n",
       "      <td>non_reader</td>\n",
       "      <td>68288997</td>\n",
       "      <td>183518.0</td>\n",
       "      <td>9967.329615</td>\n",
       "    </tr>\n",
       "    <tr>\n",
       "      <td>reader</td>\n",
       "      <td>4978476</td>\n",
       "      <td>42089.0</td>\n",
       "      <td>1070.461674</td>\n",
       "    </tr>\n",
       "  </tbody>\n",
       "</table>\n",
       "</div>"
      ],
      "text/plain": [
       "                                          uid  active_mins      log_mins\n",
       "variant_number gender  user_type                                        \n",
       "0              female  contributor     583831       4747.0    134.983666\n",
       "                       new_user      20172474       4344.0    980.653539\n",
       "                       non_reader   128561506     313531.0  18067.499964\n",
       "                       reader        11208374      93598.0   2395.387314\n",
       "               male    contributor    1299341      13127.0    289.344057\n",
       "                       new_user      28953486       6480.0   1454.349537\n",
       "                       non_reader   237617673     744543.0  36246.747335\n",
       "                       reader        20251700     169078.0   4224.329155\n",
       "               unknown contributor     450372       3099.0     83.961667\n",
       "                       new_user      12236048       2996.0    623.027579\n",
       "                       non_reader    70802646     187190.0  10215.599313\n",
       "                       reader         5544999      40032.0   1026.990798\n",
       "1              female  contributor     543948       5073.0    136.866722\n",
       "                       new_user      19484349       3962.0    944.025437\n",
       "                       non_reader   125712925     312380.0  17817.883868\n",
       "                       reader        11854079      98355.0   2461.829678\n",
       "               male    contributor    1302462      10795.0    259.472139\n",
       "                       new_user      29017518       6994.0   1477.944766\n",
       "                       non_reader   239750552     742222.0  36188.281393\n",
       "                       reader        22380929     189608.0   4650.549169\n",
       "               unknown contributor     465509       3847.0     86.007079\n",
       "                       new_user      12500033       2749.0    615.236159\n",
       "                       non_reader    68288997     183518.0   9967.329615\n",
       "                       reader         4978476      42089.0   1070.461674"
      ]
     },
     "execution_count": 80,
     "metadata": {},
     "output_type": "execute_result"
    }
   ],
   "source": [
    "#summary statistics\n",
    "cat_join_pre.groupby(['variant_number','gender','user_type']).sum()"
   ]
  },
  {
   "cell_type": "code",
   "execution_count": 81,
   "metadata": {},
   "outputs": [
    {
     "data": {
      "text/plain": [
       "<seaborn.axisgrid.FacetGrid at 0x1c25e4ea90>"
      ]
     },
     "execution_count": 81,
     "metadata": {},
     "output_type": "execute_result"
    },
    {
     "data": {
      "image/png": "[encoded data removed]",
      "text/plain": [
       "<Figure size 403.2x288 with 2 Axes>"
      ]
     },
     "metadata": {},
     "output_type": "display_data"
    }
   ],
   "source": [
    "sns.set(rc={'figure.figsize':(15, 7)})\n",
    "\n",
    "sns.catplot(x=\"gender\", y=\"active_mins\",\n",
    "                col=\"variant_number\",\n",
    "                data=cat_join_pre, kind=\"bar\",\n",
    "                height=4, aspect=.7, palette='husl')"
   ]
  },
  {
   "cell_type": "code",
   "execution_count": 82,
   "metadata": {},
   "outputs": [
    {
     "data": {
      "text/plain": [
       "<seaborn.axisgrid.FacetGrid at 0x1c30aab610>"
      ]
     },
     "execution_count": 82,
     "metadata": {},
     "output_type": "execute_result"
    },
    {
     "data": {
      "image/png": "[encoded data removed]",
      "text/plain": [
       "<Figure size 403.2x288 with 2 Axes>"
      ]
     },
     "metadata": {},
     "output_type": "display_data"
    }
   ],
   "source": [
    "chart2 = sns.catplot(x=\"user_type\", y=\"active_mins\",\n",
    "                col=\"variant_number\",\n",
    "                data=cat_join_pre, kind=\"bar\",\n",
    "                height=4, aspect=.7, palette='husl')\n",
    "\n",
    "chart2.set_xticklabels(rotation=45)\n"
   ]
  },
  {
   "cell_type": "code",
   "execution_count": 83,
   "metadata": {},
   "outputs": [],
   "source": [
    "control_cat_pre = cat_join_pre[cat_join_pre['variant_number']==0]\n",
    "exp_cat_pre = cat_join_pre[cat_join_pre['variant_number']==1]"
   ]
  },
  {
   "cell_type": "code",
   "execution_count": 84,
   "metadata": {},
   "outputs": [],
   "source": [
    "#control\n",
    "control_female_pre = control_cat_pre[control_cat_pre['gender']=='female']\n",
    "control_male_pre = control_cat_pre[control_cat_pre['gender']=='male']\n",
    "control_unknown_pre = control_cat_pre[control_cat_pre['gender']=='unknown']\n",
    "\n",
    "#exp\n",
    "exp_female_pre = exp_cat_pre[exp_cat_pre['gender']=='female']\n",
    "exp_male_pre = exp_cat_pre[exp_cat_pre['gender']=='male']\n",
    "exp_unknown_pre = exp_cat_pre[exp_cat_pre['gender']=='unknown']"
   ]
  },
  {
   "cell_type": "code",
   "execution_count": 85,
   "metadata": {},
   "outputs": [],
   "source": [
    "#control\n",
    "control_nonreader_pre = control_cat_pre[control_cat_pre['user_type']=='non_reader']\n",
    "control_reader_pre = control_cat_pre[control_cat_pre['user_type']=='reader']\n",
    "control_contributor_pre = control_cat_pre[control_cat_pre['user_type']=='contributor']\n",
    "control_newuser_pre = control_cat_pre[control_cat_pre['user_type']=='new_user']\n",
    "\n",
    "#exp\n",
    "exp_nonreader_pre = exp_cat_pre[exp_cat_pre['user_type']=='non_reader']\n",
    "exp_reader_pre = exp_cat_pre[exp_cat_pre['user_type']=='reader']\n",
    "exp_contributor_pre = exp_cat_pre[exp_cat_pre['user_type']=='contributor']\n",
    "exp_newuser_pre = exp_cat_pre[exp_cat_pre['user_type']=='new_user']"
   ]
  },
  {
   "cell_type": "code",
   "execution_count": 86,
   "metadata": {},
   "outputs": [
    {
     "name": "stdout",
     "output_type": "stream",
     "text": [
      "Control group:\n",
      "Mean of active mins =  34.313410433706274\n",
      "Standard deviation of active mins =  4.102090369410104\n",
      "Experimental group:\n",
      "Mean of active mins =  46.13738983973328\n",
      "Standard deviation of active mins =  4.025751083721038\n",
      "Mean difference =  0.99882025330762\n",
      "T-test statistics =  -0.04799205263402161\n",
      "P-value is:  0.5191385914031404\n",
      "Confidential interval CI =  (0.9518038304390334, 1.0481591547675548)\n"
     ]
    }
   ],
   "source": [
    "t_test_log(control_female_pre,exp_female_pre,'log_mins')"
   ]
  },
  {
   "cell_type": "code",
   "execution_count": 87,
   "metadata": {},
   "outputs": [
    {
     "name": "stdout",
     "output_type": "stream",
     "text": [
      "Control group:\n",
      "Mean of active mins =  34.313410433706274\n",
      "Standard deviation of active mins =  4.102090369410104\n",
      "Experimental group:\n",
      "Mean of active mins =  46.13738983973328\n",
      "Standard deviation of active mins =  4.025751083721038\n",
      "Mean difference =  0.9975060426463608\n",
      "T-test statistics =  -0.1388137329665733\n",
      "P-value is:  0.5552009779839201\n",
      "Confidential interval CI =  (0.9629444326692358, 1.0333081238736281)\n"
     ]
    }
   ],
   "source": [
    "t_test_log(control_male_pre,exp_male_pre,'log_mins')"
   ]
  },
  {
   "cell_type": "code",
   "execution_count": 88,
   "metadata": {},
   "outputs": [
    {
     "name": "stdout",
     "output_type": "stream",
     "text": [
      "Control group:\n",
      "Mean of active mins =  34.313410433706274\n",
      "Standard deviation of active mins =  4.102090369410104\n",
      "Experimental group:\n",
      "Mean of active mins =  46.13738983973328\n",
      "Standard deviation of active mins =  4.025751083721038\n",
      "Mean difference =  0.9829196516328075\n",
      "T-test statistics =  -0.5155806124245672\n",
      "P-value is:  0.6969248910746693\n",
      "Confidential interval CI =  (0.9206003812550644, 1.0494575727296818)\n"
     ]
    }
   ],
   "source": [
    "t_test_log(control_unknown_pre,exp_unknown_pre,'log_mins')"
   ]
  },
  {
   "cell_type": "code",
   "execution_count": 89,
   "metadata": {},
   "outputs": [
    {
     "name": "stdout",
     "output_type": "stream",
     "text": [
      "Control group:\n",
      "Mean of active mins =  34.313410433706274\n",
      "Standard deviation of active mins =  4.102090369410104\n",
      "Experimental group:\n",
      "Mean of active mins =  46.13738983973328\n",
      "Standard deviation of active mins =  4.025751083721038\n",
      "Mean difference =  0.986819062203776\n",
      "T-test statistics =  -1.106448241472041\n",
      "P-value is:  0.8657303787587862\n",
      "Confidential interval CI =  (0.9638918865535544, 1.010291584682443)\n"
     ]
    }
   ],
   "source": [
    "t_test_log(control_nonreader_pre,exp_nonreader_pre,'log_mins')"
   ]
  },
  {
   "cell_type": "code",
   "execution_count": 90,
   "metadata": {},
   "outputs": [
    {
     "name": "stdout",
     "output_type": "stream",
     "text": [
      "Control group:\n",
      "Mean of active mins =  34.313410433706274\n",
      "Standard deviation of active mins =  4.102090369410104\n",
      "Experimental group:\n",
      "Mean of active mins =  46.13738983973328\n",
      "Standard deviation of active mins =  4.025751083721038\n",
      "Mean difference =  1.0075673479761365\n",
      "T-test statistics =  0.27550713261889026\n",
      "P-value is:  0.3914640385089929\n",
      "Confidential interval CI =  (0.9549455629998789, 1.0630888293972771)\n"
     ]
    }
   ],
   "source": [
    "t_test_log(control_reader_pre,exp_reader_pre,'log_mins')"
   ]
  },
  {
   "cell_type": "code",
   "execution_count": 91,
   "metadata": {},
   "outputs": [
    {
     "name": "stdout",
     "output_type": "stream",
     "text": [
      "Control group:\n",
      "Mean of active mins =  34.313410433706274\n",
      "Standard deviation of active mins =  4.102090369410104\n",
      "Experimental group:\n",
      "Mean of active mins =  46.13738983973328\n",
      "Standard deviation of active mins =  4.025751083721038\n",
      "Mean difference =  0.9998890525655738\n",
      "T-test statistics =  -0.0011776103906029076\n",
      "P-value is:  0.5004697955150792\n",
      "Confidential interval CI =  (0.8312659385893789, 1.2027175312115634)\n"
     ]
    }
   ],
   "source": [
    "t_test_log(control_contributor_pre,exp_contributor_pre,'log_mins')"
   ]
  },
  {
   "cell_type": "code",
   "execution_count": 92,
   "metadata": {},
   "outputs": [
    {
     "name": "stdout",
     "output_type": "stream",
     "text": [
      "Control group:\n",
      "Mean of active mins =  34.313410433706274\n",
      "Standard deviation of active mins =  4.102090369410104\n",
      "Experimental group:\n",
      "Mean of active mins =  46.13738983973328\n",
      "Standard deviation of active mins =  4.025751083721038\n",
      "Mean difference =  0.9966768707555497\n",
      "T-test statistics =  -0.12493724871328762\n",
      "P-value is:  0.5497130699119003\n",
      "Confidential interval CI =  (0.9459596858887148, 1.0501132337006767)\n"
     ]
    }
   ],
   "source": [
    "t_test_log(control_newuser_pre,exp_newuser_pre,'log_mins')"
   ]
  },
  {
   "cell_type": "markdown",
   "metadata": {},
   "source": [
    "### Plotting the time series data"
   ]
  },
  {
   "cell_type": "code",
   "execution_count": 93,
   "metadata": {},
   "outputs": [
    {
     "name": "stderr",
     "output_type": "stream",
     "text": [
      "/Users/giangnguyen/opt/anaconda3/lib/python3.7/site-packages/ipykernel_launcher.py:4: FutureWarning: Sorting because non-concatenation axis is not aligned. A future version\n",
      "of pandas will change to not sort by default.\n",
      "\n",
      "To accept the future behavior, pass 'sort=False'.\n",
      "\n",
      "To retain the current behavior and silence the warning, pass 'sort=True'.\n",
      "\n",
      "  after removing the cwd from sys.path.\n"
     ]
    }
   ],
   "source": [
    "new_join_test = pd.merge(t1_t2_join,t4, how='left', left_on='uid', right_on='uid')\n",
    "new_join_notest = pd.merge(t3,t4, how='left', left_on='uid', right_on='uid')\n",
    "\n",
    "new_join = pd.concat([new_join_test,new_join_notest])"
   ]
  },
  {
   "cell_type": "code",
   "execution_count": 94,
   "metadata": {},
   "outputs": [
    {
     "name": "stdout",
     "output_type": "stream",
     "text": [
      "<class 'pandas.core.frame.DataFrame'>\n",
      "Int64Index: 2256495 entries, 0 to 1190092\n",
      "Data columns (total 6 columns):\n",
      "active_mins       float64\n",
      "dt                object\n",
      "gender            object\n",
      "uid               int64\n",
      "user_type         object\n",
      "variant_number    float64\n",
      "dtypes: float64(2), int64(1), object(3)\n",
      "memory usage: 120.5+ MB\n"
     ]
    }
   ],
   "source": [
    "new_join.info()"
   ]
  },
  {
   "cell_type": "code",
   "execution_count": 95,
   "metadata": {},
   "outputs": [
    {
     "data": {
      "text/html": [
       "<div>\n",
       "<style scoped>\n",
       "    .dataframe tbody tr th:only-of-type {\n",
       "        vertical-align: middle;\n",
       "    }\n",
       "\n",
       "    .dataframe tbody tr th {\n",
       "        vertical-align: top;\n",
       "    }\n",
       "\n",
       "    .dataframe thead th {\n",
       "        text-align: right;\n",
       "    }\n",
       "</style>\n",
       "<table border=\"1\" class=\"dataframe\">\n",
       "  <thead>\n",
       "    <tr style=\"text-align: right;\">\n",
       "      <th></th>\n",
       "      <th>dt</th>\n",
       "      <th>gender</th>\n",
       "      <th>user_type</th>\n",
       "      <th>active_mins</th>\n",
       "    </tr>\n",
       "  </thead>\n",
       "  <tbody>\n",
       "    <tr>\n",
       "      <td>0</td>\n",
       "      <td>2018-08-10</td>\n",
       "      <td>female</td>\n",
       "      <td>contributor</td>\n",
       "      <td>3992.0</td>\n",
       "    </tr>\n",
       "    <tr>\n",
       "      <td>1</td>\n",
       "      <td>2018-08-10</td>\n",
       "      <td>female</td>\n",
       "      <td>non_reader</td>\n",
       "      <td>5917.0</td>\n",
       "    </tr>\n",
       "    <tr>\n",
       "      <td>2</td>\n",
       "      <td>2018-08-10</td>\n",
       "      <td>female</td>\n",
       "      <td>reader</td>\n",
       "      <td>14055.0</td>\n",
       "    </tr>\n",
       "    <tr>\n",
       "      <td>3</td>\n",
       "      <td>2018-08-10</td>\n",
       "      <td>male</td>\n",
       "      <td>contributor</td>\n",
       "      <td>17868.0</td>\n",
       "    </tr>\n",
       "    <tr>\n",
       "      <td>4</td>\n",
       "      <td>2018-08-10</td>\n",
       "      <td>male</td>\n",
       "      <td>non_reader</td>\n",
       "      <td>12771.0</td>\n",
       "    </tr>\n",
       "  </tbody>\n",
       "</table>\n",
       "</div>"
      ],
      "text/plain": [
       "           dt  gender    user_type  active_mins\n",
       "0  2018-08-10  female  contributor       3992.0\n",
       "1  2018-08-10  female   non_reader       5917.0\n",
       "2  2018-08-10  female       reader      14055.0\n",
       "3  2018-08-10    male  contributor      17868.0\n",
       "4  2018-08-10    male   non_reader      12771.0"
      ]
     },
     "execution_count": 95,
     "metadata": {},
     "output_type": "execute_result"
    }
   ],
   "source": [
    "new_sum = new_join[['dt','gender','user_type','active_mins']].groupby(['dt','gender','user_type']).sum().reset_index()\n",
    "new_sum.head()"
   ]
  },
  {
   "cell_type": "code",
   "execution_count": 96,
   "metadata": {},
   "outputs": [],
   "source": [
    "new_sum.dt = pd.to_datetime(new_sum.dt)\n",
    "new_sum = new_sum.set_index('dt')"
   ]
  },
  {
   "cell_type": "code",
   "execution_count": 97,
   "metadata": {},
   "outputs": [
    {
     "name": "stderr",
     "output_type": "stream",
     "text": [
      "/Users/giangnguyen/opt/anaconda3/lib/python3.7/site-packages/pandas/plotting/_matplotlib/converter.py:103: FutureWarning: Using an implicitly registered datetime converter for a matplotlib plotting method. The converter was registered by pandas on import. Future versions of pandas will require you to explicitly register matplotlib converters.\n",
      "\n",
      "To register the converters:\n",
      "\t>>> from pandas.plotting import register_matplotlib_converters\n",
      "\t>>> register_matplotlib_converters()\n",
      "  warnings.warn(msg, FutureWarning)\n"
     ]
    },
    {
     "data": {
      "text/plain": [
       "<matplotlib.lines.Line2D at 0x1c311d5390>"
      ]
     },
     "execution_count": 97,
     "metadata": {},
     "output_type": "execute_result"
    },
    {
     "data": {
      "image/png": "[encoded data removed]",
      "text/plain": [
       "<Figure size 1440x504 with 1 Axes>"
      ]
     },
     "metadata": {},
     "output_type": "display_data"
    }
   ],
   "source": [
    "#make a line plot to see the trend of DAU over time\n",
    "sns.set(rc={'figure.figsize':(20, 7)})\n",
    "\n",
    "fig, ax = plt.subplots()\n",
    "\n",
    "\n",
    "ax.plot(new_sum.loc[new_sum['gender']=='female']['active_mins'],linewidth=2, label ='female',color= \"salmon\")\n",
    "ax.plot(new_sum.loc[new_sum['gender']=='male']['active_mins'],linewidth=2, label ='male',color= \"blue\")\n",
    "ax.plot(new_sum.loc[new_sum['gender']=='unknown']['active_mins'],linewidth=2, label ='unknown',color= \"gray\")\n",
    "\n",
    "\n",
    "# Set x-ticks to yearly interval and add legend and labels\n",
    "ax.xaxis.set_major_formatter(mdates.DateFormatter('%b %Y'))\n",
    "ax.legend()\n",
    "ax.set_xlabel('Date')\n",
    "ax.set_ylabel('Active Mins')\n",
    "ax.set_title('Active Mins over time')\n",
    "plt.axvline(pd.to_datetime('2019-02-06'), color=\"red\", linestyle=\"--\")\n"
   ]
  },
  {
   "cell_type": "code",
   "execution_count": 98,
   "metadata": {},
   "outputs": [
    {
     "data": {
      "text/plain": [
       "<matplotlib.lines.Line2D at 0x1c31537c50>"
      ]
     },
     "execution_count": 98,
     "metadata": {},
     "output_type": "execute_result"
    },
    {
     "data": {
      "image/png": "[encoded data removed]",
      "text/plain": [
       "<Figure size 1440x504 with 1 Axes>"
      ]
     },
     "metadata": {},
     "output_type": "display_data"
    }
   ],
   "source": [
    "#make a line plot to see the trend of DAU over time\n",
    "sns.set(rc={'figure.figsize':(20, 7)})\n",
    "\n",
    "fig, ax = plt.subplots()\n",
    "\n",
    "\n",
    "ax.plot(new_sum.loc[new_sum['user_type']=='reader']['active_mins'],linewidth=2, label ='reader',color= \"salmon\")\n",
    "ax.plot(new_sum.loc[new_sum['user_type']=='contributor']['active_mins'],linewidth=2, label ='contributor',color= \"blue\")\n",
    "ax.plot(new_sum.loc[new_sum['user_type']=='non_reader']['active_mins'],linewidth=2, label ='non_reader',color= \"gray\")\n",
    "ax.plot(new_sum.loc[new_sum['user_type']=='new_user']['active_mins'],linewidth=2, label ='new_user',color= \"purple\")\n",
    "\n",
    "\n",
    "# Set x-ticks to yearly interval and add legend and labels\n",
    "ax.xaxis.set_major_formatter(mdates.DateFormatter('%b %Y'))\n",
    "ax.legend()\n",
    "ax.set_xlabel('Date')\n",
    "ax.set_ylabel('Active Mins')\n",
    "ax.set_title('Active Mins over time')\n",
    "plt.axvline(pd.to_datetime('2019-02-06'), color=\"red\", linestyle=\"--\")\n"
   ]
  },
  {
   "cell_type": "markdown",
   "metadata": {},
   "source": [
    "## Deep Dive Analysis\n",
    "\n",
    "Given the user attributes table, I was able to monitor the user engagement analysis on the new UI\n",
    "change by breaking down the general approach into different segments. Overall, user engagement\n",
    "metric (total active minutes spend on app) increased approximately 1.3 times for every covariates\n",
    "within genders and user types, except for “contributor” user sample. Even though “contributor”\n",
    "user’s engagement in treatment group was less than control one by 20%, the t-test concluded that this\n",
    "difference only happened by chance without any statistically significant assumption. This could be\n",
    "the reason why we observed insignificant impact in the bootstrap test.\n",
    "According\n",
    "\n",
    "According to the visualization dashboard of total active minutes of users across different segments,\n",
    "we can see that user engagement for males had the largest difference between treatment and control\n",
    "groups (about 1.5 times) compared to female and unknown. This is very interesting since the new UI\n",
    "might get adopted by men than other genders.\n",
    "Regarding user types, “non_reader” and “new_user” yielded the highest difference in total active\n",
    "minutes between the 2 samples (approximately 30%). This implies that the new UI not only impact on user\n",
    "engagement but also user acquisition since these populations are not current or regular users.\n",
    "\n",
    "According to our findings, here are the product recommendations that I came up with:\n",
    "- Since the new UI had great impact on new users and non-readers, we can add a\n",
    "screen/pop-up message to the UI to prompt these users to answer or ask more questions\n",
    "related to their topics of interest . This can increase the conversion to become\n",
    "contributors/readers for these users, which eventually benefit growth and retention.\n",
    "- Explore and analyze the user interactions/activities stream with the new UI and compare the\n",
    "differences between males and unknown genders versus females. The goal is to customize\n",
    "UI for each gender group and optimize their engagement rate."
   ]
  }
 ],
 "metadata": {
  "kernelspec": {
   "display_name": "Python 3",
   "language": "python",
   "name": "python3"
  },
  "language_info": {
   "codemirror_mode": {
    "name": "ipython",
    "version": 3
   },
   "file_extension": ".py",
   "mimetype": "text/x-python",
   "name": "python",
   "nbconvert_exporter": "python",
   "pygments_lexer": "ipython3",
   "version": "3.7.4"
  }
 },
 "nbformat": 4,
 "nbformat_minor": 2
}
